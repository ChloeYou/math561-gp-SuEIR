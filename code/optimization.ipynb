{
 "cells": [
  {
   "cell_type": "code",
   "execution_count": 59,
   "metadata": {},
   "outputs": [],
   "source": [
    "# load packages\n",
    "import numpy as np\n",
    "import scipy as sp\n",
    "import pandas as pd\n",
    "from scipy import optimize as opt\n",
    "from scipy.integrate import odeint \n",
    "from scipy.optimize import minimize"
   ]
  },
  {
   "cell_type": "markdown",
   "metadata": {},
   "source": [
    "Now consider parameter learning for the SuEIR model. Given the model parameters $\\boldsymbol{\\theta}$ and initial quantities $S_0, E_0, I_0$, and $R_0$, we can compute the number of individuals in each group (i.e., $S, E, I$, and $R$ ) at time $t$, denoted by $\\widehat{S}_t, \\widehat{E}_t, \\widehat{I}_t$ and $\\widehat{R}_t$, via applying  numerical ODE solvers onto the ODE. Then we propose to learn the model parameter $\\widehat{\\boldsymbol{\\theta}}=(\\widehat{\\beta}, \\widehat{\\sigma}, \\widehat{\\gamma}, \\widehat{\\mu})$ by minimizing the following logarithmic-type mean square error (MSE).\n",
    "\n",
    "Where $\\mathbf{I}=\\left\\{I_t\\right\\}_{t=1}^T, \\mathbf{R}=\\left\\{R_t\\right\\}_{t=1}^T$ with $I_t$ and $R_t$ denote the reported numbers of infected cases and removed cases (including both recovered cases and fatality cases) at time $t$ (i.e., date), and $p$ is the smoothing parameter used to ensure numerical stability. Note that given $S_0, E_0, I_0$ and $R_0, \\widehat{I}_t$ and $\\widehat{R}_t$ can be described as differentiable functions of the parameter $\\boldsymbol{\\theta}$. Then the model parameter $\\widehat{\\boldsymbol{\\theta}}=\\operatorname{argmin}_{\\boldsymbol{\\theta}} L(\\boldsymbol{\\theta} ; \\mathbf{I}, \\mathbf{R})$ can be learnt by applying standard gradient based optimizer (e.g., BFGS) onto the loss function under the constraint that $\\beta, \\sigma, \\gamma, \\mu \\in[0,1]$."
   ]
  },
  {
   "cell_type": "markdown",
   "metadata": {},
   "source": [
    "$$\n",
    "L(\\boldsymbol{\\theta} ; \\mathbf{I}, \\mathbf{R})=\\frac{1}{T} \\sum_{t=1}^T\\left[\\left(\\log \\left(\\widehat{I}_t+p\\right)-\\log \\left(I_t+p\\right)\\right)^2+\\left(\\log \\left(\\widehat{R}_t+p\\right)-\\log \\left(R_t+p\\right)\\right)^2\\right],\n",
    "$$\n"
   ]
  },
  {
   "cell_type": "code",
   "execution_count": 60,
   "metadata": {},
   "outputs": [],
   "source": [
    "def loss(pred, target, smoothing=20): \n",
    "    return np.mean((np.log(pred+smoothing) - np.log(target+smoothing))**2)\n",
    "    \n",
    "# SEIR: the 'reported' SEIR. In our case, the simulated dataset. \n",
    "def optim(SEIR, method = 'L-BFGS-B', init= [0.15, 0.075, 0.05, 0.1]):  #beta, mu, sigma, gamma\n",
    "    # maybe these could be passed into the function as  \n",
    "    # parameters if the estimation parts change\n",
    "    y0 = [800.0, 100.0, 50.0, 50.0]\n",
    "    t = np.linspace(0, 59, 60)\n",
    "    N  = 1000.0  \n",
    "    def deriv(y, t, N, beta, mu, sigma, gamma):\n",
    "        s,e,i,r= y\n",
    "        dsdt = -((beta * (e + i) * s) / N)\n",
    "        dedt = (((beta * (e + i) * s) / N) - sigma * e)\n",
    "        didt = (mu * sigma * e - (gamma * i))\n",
    "        drdt = (gamma * i)  \n",
    "        return dsdt, dedt, didt, drdt\n",
    "    \n",
    "    def objective(x):\n",
    "        beta, mu, sigma, gamma = x\n",
    "        est_SEIR = odeint(deriv, y0, t, args=(N, beta, mu, sigma, gamma))\n",
    "        est_df = pd.DataFrame(est_SEIR, columns = ['S','E','I','R'])\n",
    "        return loss(est_df.loc[:,\"I\"], SEIR.loc[:,\"I\"]) +  loss(est_df.loc[:,\"R\"], SEIR.loc[:,\"R\"])\n",
    "\n",
    "    # scipy optimizer\n",
    "    optimal = minimize(\n",
    "        objective,\n",
    "        init, # initial estimate\n",
    "        method=method,  \n",
    "        bounds=[(0.0001, 1),  (0.001, 1.), (0.01, 1), (0.05, 0.3)] # bounded based on prior knowledge: beta, mu, sigma, gamma\n",
    "        # bounds=[(0, 1),  (0, 1), (0,1), (0, 1)]\n",
    "    )\n",
    "\n",
    "    return optimal.x"
   ]
  },
  {
   "cell_type": "markdown",
   "metadata": {},
   "source": [
    "Load datasets and then minimize the objective function and obtain parameter estimates:"
   ]
  },
  {
   "cell_type": "code",
   "execution_count": 61,
   "metadata": {},
   "outputs": [
    {
     "data": {
      "text/html": [
       "<div>\n",
       "<style scoped>\n",
       "    .dataframe tbody tr th:only-of-type {\n",
       "        vertical-align: middle;\n",
       "    }\n",
       "\n",
       "    .dataframe tbody tr th {\n",
       "        vertical-align: top;\n",
       "    }\n",
       "\n",
       "    .dataframe thead th {\n",
       "        text-align: right;\n",
       "    }\n",
       "</style>\n",
       "<table border=\"1\" class=\"dataframe\">\n",
       "  <thead>\n",
       "    <tr style=\"text-align: right;\">\n",
       "      <th></th>\n",
       "      <th>sim-1-p.csv</th>\n",
       "      <th>sim-10-p.csv</th>\n",
       "      <th>sim-2-p.csv</th>\n",
       "      <th>sim-3-p.csv</th>\n",
       "      <th>sim-4-p.csv</th>\n",
       "      <th>sim-5-p.csv</th>\n",
       "      <th>sim-6-p.csv</th>\n",
       "      <th>sim-7-p.csv</th>\n",
       "      <th>sim-8-p.csv</th>\n",
       "      <th>sim-9-p.csv</th>\n",
       "    </tr>\n",
       "  </thead>\n",
       "  <tbody>\n",
       "    <tr>\n",
       "      <th>0</th>\n",
       "      <td>0.570735</td>\n",
       "      <td>0.055112</td>\n",
       "      <td>0.066090</td>\n",
       "      <td>0.061090</td>\n",
       "      <td>0.232100</td>\n",
       "      <td>0.085348</td>\n",
       "      <td>0.381025</td>\n",
       "      <td>0.397532</td>\n",
       "      <td>0.070860</td>\n",
       "      <td>0.055911</td>\n",
       "    </tr>\n",
       "    <tr>\n",
       "      <th>1</th>\n",
       "      <td>0.067201</td>\n",
       "      <td>0.973298</td>\n",
       "      <td>1.000000</td>\n",
       "      <td>0.707741</td>\n",
       "      <td>0.134965</td>\n",
       "      <td>0.424742</td>\n",
       "      <td>0.094986</td>\n",
       "      <td>0.092907</td>\n",
       "      <td>0.557682</td>\n",
       "      <td>1.000000</td>\n",
       "    </tr>\n",
       "    <tr>\n",
       "      <th>2</th>\n",
       "      <td>0.193610</td>\n",
       "      <td>0.037506</td>\n",
       "      <td>0.038232</td>\n",
       "      <td>0.049651</td>\n",
       "      <td>0.124355</td>\n",
       "      <td>0.072149</td>\n",
       "      <td>0.149208</td>\n",
       "      <td>0.153206</td>\n",
       "      <td>0.055559</td>\n",
       "      <td>0.036574</td>\n",
       "    </tr>\n",
       "    <tr>\n",
       "      <th>3</th>\n",
       "      <td>0.128469</td>\n",
       "      <td>0.120997</td>\n",
       "      <td>0.119917</td>\n",
       "      <td>0.120778</td>\n",
       "      <td>0.121669</td>\n",
       "      <td>0.120812</td>\n",
       "      <td>0.123563</td>\n",
       "      <td>0.124567</td>\n",
       "      <td>0.119964</td>\n",
       "      <td>0.120454</td>\n",
       "    </tr>\n",
       "  </tbody>\n",
       "</table>\n",
       "</div>"
      ],
      "text/plain": [
       "   sim-1-p.csv  sim-10-p.csv  sim-2-p.csv  sim-3-p.csv  sim-4-p.csv  \\\n",
       "0     0.570735      0.055112     0.066090     0.061090     0.232100   \n",
       "1     0.067201      0.973298     1.000000     0.707741     0.134965   \n",
       "2     0.193610      0.037506     0.038232     0.049651     0.124355   \n",
       "3     0.128469      0.120997     0.119917     0.120778     0.121669   \n",
       "\n",
       "   sim-5-p.csv  sim-6-p.csv  sim-7-p.csv  sim-8-p.csv  sim-9-p.csv  \n",
       "0     0.085348     0.381025     0.397532     0.070860     0.055911  \n",
       "1     0.424742     0.094986     0.092907     0.557682     1.000000  \n",
       "2     0.072149     0.149208     0.153206     0.055559     0.036574  \n",
       "3     0.120812     0.123563     0.124567     0.119964     0.120454  "
      ]
     },
     "execution_count": 61,
     "metadata": {},
     "output_type": "execute_result"
    }
   ],
   "source": [
    "os.chdir('c:\\\\Users\\\\chloe\\\\Desktop\\\\ChloeYou\\\\UBC_grad\\\\Term3\\\\MATH561\\\\math561-gp-SuEIR\\\\data\\\\python')\n",
    "\n",
    "params_nn = pd.DataFrame([])\n",
    "for file in os.listdir(os.getcwd()) :\n",
    "    df = pd.read_csv(file)\n",
    "    params_nn[file] = optim(df)\n",
    "    \n",
    "params_nn # rows: beta, mu, sigma, gamma\n"
   ]
  },
  {
   "cell_type": "code",
   "execution_count": 62,
   "metadata": {},
   "outputs": [
    {
     "name": "stdout",
     "output_type": "stream",
     "text": [
      "['sim-1-m.csv', 'sim-10-m.csv', 'sim-2-m.csv', 'sim-3-m.csv', 'sim-4-m.csv', 'sim-5-m.csv', 'sim-6-m.csv', 'sim-7-m.csv', 'sim-8-m.csv', 'sim-9-m.csv']\n"
     ]
    },
    {
     "data": {
      "text/html": [
       "<div>\n",
       "<style scoped>\n",
       "    .dataframe tbody tr th:only-of-type {\n",
       "        vertical-align: middle;\n",
       "    }\n",
       "\n",
       "    .dataframe tbody tr th {\n",
       "        vertical-align: top;\n",
       "    }\n",
       "\n",
       "    .dataframe thead th {\n",
       "        text-align: right;\n",
       "    }\n",
       "</style>\n",
       "<table border=\"1\" class=\"dataframe\">\n",
       "  <thead>\n",
       "    <tr style=\"text-align: right;\">\n",
       "      <th></th>\n",
       "      <th>sim-1-m.csv</th>\n",
       "      <th>sim-10-m.csv</th>\n",
       "      <th>sim-2-m.csv</th>\n",
       "      <th>sim-3-m.csv</th>\n",
       "      <th>sim-4-m.csv</th>\n",
       "      <th>sim-5-m.csv</th>\n",
       "      <th>sim-6-m.csv</th>\n",
       "      <th>sim-7-m.csv</th>\n",
       "      <th>sim-8-m.csv</th>\n",
       "      <th>sim-9-m.csv</th>\n",
       "    </tr>\n",
       "  </thead>\n",
       "  <tbody>\n",
       "    <tr>\n",
       "      <th>0</th>\n",
       "      <td>0.333303</td>\n",
       "      <td>0.100104</td>\n",
       "      <td>0.399304</td>\n",
       "      <td>0.299962</td>\n",
       "      <td>0.200065</td>\n",
       "      <td>0.100190</td>\n",
       "      <td>0.328968</td>\n",
       "      <td>0.399410</td>\n",
       "      <td>0.299859</td>\n",
       "      <td>0.200017</td>\n",
       "    </tr>\n",
       "    <tr>\n",
       "      <th>1</th>\n",
       "      <td>0.055199</td>\n",
       "      <td>0.099911</td>\n",
       "      <td>0.050012</td>\n",
       "      <td>0.050006</td>\n",
       "      <td>0.049987</td>\n",
       "      <td>0.049917</td>\n",
       "      <td>0.109642</td>\n",
       "      <td>0.100016</td>\n",
       "      <td>0.100017</td>\n",
       "      <td>0.099992</td>\n",
       "    </tr>\n",
       "    <tr>\n",
       "      <th>2</th>\n",
       "      <td>0.145983</td>\n",
       "      <td>0.090037</td>\n",
       "      <td>0.090202</td>\n",
       "      <td>0.090001</td>\n",
       "      <td>0.089968</td>\n",
       "      <td>0.090073</td>\n",
       "      <td>0.149128</td>\n",
       "      <td>0.090171</td>\n",
       "      <td>0.090051</td>\n",
       "      <td>0.089987</td>\n",
       "    </tr>\n",
       "    <tr>\n",
       "      <th>3</th>\n",
       "      <td>0.119583</td>\n",
       "      <td>0.120001</td>\n",
       "      <td>0.120000</td>\n",
       "      <td>0.120003</td>\n",
       "      <td>0.120001</td>\n",
       "      <td>0.120001</td>\n",
       "      <td>0.119403</td>\n",
       "      <td>0.120000</td>\n",
       "      <td>0.120001</td>\n",
       "      <td>0.119997</td>\n",
       "    </tr>\n",
       "  </tbody>\n",
       "</table>\n",
       "</div>"
      ],
      "text/plain": [
       "   sim-1-m.csv  sim-10-m.csv  sim-2-m.csv  sim-3-m.csv  sim-4-m.csv  \\\n",
       "0     0.333303      0.100104     0.399304     0.299962     0.200065   \n",
       "1     0.055199      0.099911     0.050012     0.050006     0.049987   \n",
       "2     0.145983      0.090037     0.090202     0.090001     0.089968   \n",
       "3     0.119583      0.120001     0.120000     0.120003     0.120001   \n",
       "\n",
       "   sim-5-m.csv  sim-6-m.csv  sim-7-m.csv  sim-8-m.csv  sim-9-m.csv  \n",
       "0     0.100190     0.328968     0.399410     0.299859     0.200017  \n",
       "1     0.049917     0.109642     0.100016     0.100017     0.099992  \n",
       "2     0.090073     0.149128     0.090171     0.090051     0.089987  \n",
       "3     0.120001     0.119403     0.120000     0.120001     0.119997  "
      ]
     },
     "execution_count": 62,
     "metadata": {},
     "output_type": "execute_result"
    }
   ],
   "source": [
    "os.chdir('c:\\\\Users\\\\chloe\\\\Desktop\\\\ChloeYou\\\\UBC_grad\\\\Term3\\\\MATH561\\\\math561-gp-SuEIR\\\\data\\\\matlab')\n",
    "\n",
    "csv = os.listdir(os.getcwd())\n",
    "del csv[0] # this is the ground truth so we will only calculate the R_0 from it\n",
    "print(csv)\n",
    "params_trad = pd.DataFrame([])\n",
    "for file in csv :\n",
    "    df = pd.read_csv(file)\n",
    "    params_trad[file] = optim(df)\n",
    "    \n",
    "params_trad # rows: beta, mu, sigma, gamma"
   ]
  },
  {
   "cell_type": "markdown",
   "metadata": {},
   "source": [
    "Calculate R_0 for each simulation:\n",
    "$$\n",
    "R_0 = \\frac{\\beta}{\\sigma} +\\frac{\\beta\\mu}{\\gamma}\n",
    "$$"
   ]
  },
  {
   "cell_type": "code",
   "execution_count": 63,
   "metadata": {},
   "outputs": [
    {
     "data": {
      "text/plain": [
       "sim-1-m.csv     2.437009\n",
       "sim-10-m.csv    1.195149\n",
       "sim-2-m.csv     4.593166\n",
       "sim-3-m.csv     3.457847\n",
       "sim-4-m.csv     2.307090\n",
       "sim-5-m.csv     1.153991\n",
       "sim-6-m.csv     2.508014\n",
       "sim-7-m.csv     4.762369\n",
       "sim-8-m.csv     3.579801\n",
       "sim-9-m.csv     2.389395\n",
       "dtype: float64"
      ]
     },
     "execution_count": 63,
     "metadata": {},
     "output_type": "execute_result"
    }
   ],
   "source": [
    "R_0_trad = (params_trad.loc[0,]/params_trad.loc[2,]) + (params_trad.loc[0,]*params_trad.loc[1,]/params_trad.loc[3,])\n",
    "R_0_trad\n"
   ]
  },
  {
   "cell_type": "code",
   "execution_count": 64,
   "metadata": {},
   "outputs": [
    {
     "data": {
      "text/plain": [
       "sim-1-p.csv     3.246414\n",
       "sim-10-p.csv    1.912754\n",
       "sim-2-p.csv     2.279809\n",
       "sim-3-p.csv     1.588377\n",
       "sim-4-p.csv     2.123892\n",
       "sim-5-p.csv     1.482994\n",
       "sim-6-p.csv     2.846553\n",
       "sim-7-p.csv     2.891238\n",
       "sim-8-p.csv     1.604810\n",
       "sim-9-p.csv     1.992853\n",
       "dtype: float64"
      ]
     },
     "execution_count": 64,
     "metadata": {},
     "output_type": "execute_result"
    }
   ],
   "source": [
    "R_0_nn = (params_nn.loc[0,]/params_nn.loc[2,]) + (params_nn.loc[0,]*params_nn.loc[1,]/params_nn.loc[3,])\n",
    "R_0_nn"
   ]
  },
  {
   "cell_type": "markdown",
   "metadata": {},
   "source": [
    "Let's compare these estimated values to the 'true' $R_0 = \\frac{0.25}{0.09} +\\frac{0.25*0.075}{0.12} = 2.9$ \n",
    "\n",
    "Also, since the objective function is non-convex, the initial parameter used for optimization\n",
    "varies the estimate a lot. \n",
    "\n",
    "We look at the sum of the absolute value of bias:"
   ]
  },
  {
   "cell_type": "markdown",
   "metadata": {},
   "source": [
    "#### Testing different optimization algorithms and initial parameter estimates "
   ]
  },
  {
   "cell_type": "code",
   "execution_count": 65,
   "metadata": {},
   "outputs": [
    {
     "name": "stdout",
     "output_type": "stream",
     "text": [
      "['sim-1-m.csv', 'sim-10-m.csv', 'sim-2-m.csv', 'sim-3-m.csv', 'sim-4-m.csv', 'sim-5-m.csv', 'sim-6-m.csv', 'sim-7-m.csv', 'sim-8-m.csv', 'sim-9-m.csv']\n"
     ]
    },
    {
     "data": {
      "text/plain": [
       "sim-1-m.csv     1.017865\n",
       "sim-10-m.csv    0.996793\n",
       "sim-2-m.csv     5.268347\n",
       "sim-3-m.csv     3.458939\n",
       "sim-4-m.csv     2.307064\n",
       "sim-5-m.csv     1.042159\n",
       "sim-6-m.csv     0.282606\n",
       "sim-7-m.csv     0.337580\n",
       "sim-8-m.csv     0.448378\n",
       "sim-9-m.csv     1.008896\n",
       "dtype: float64"
      ]
     },
     "execution_count": 65,
     "metadata": {},
     "output_type": "execute_result"
    }
   ],
   "source": [
    "os.chdir('c:\\\\Users\\\\chloe\\\\Desktop\\\\ChloeYou\\\\UBC_grad\\\\Term3\\\\MATH561\\\\math561-gp-SuEIR\\\\data\\\\matlab')\n",
    "\n",
    "csv = os.listdir(os.getcwd())\n",
    "del csv[0] # this is the ground truth so we will only calculate the R_0 from it\n",
    "print(csv)\n",
    "\n",
    "params_trad = pd.DataFrame([])\n",
    "for file in csv :\n",
    "    df = pd.read_csv(file)\n",
    "    params_trad[file] = optim(df, method='Powell', init=[0.5,0.5,0.5,0.05])\n",
    "    \n",
    "params_trad # rows: beta, mu, sigma, gamma\n",
    "\n",
    "R_0_trad = (params_trad.loc[0,]/params_trad.loc[2,]) + (params_trad.loc[0,]*params_trad.loc[1,]/params_trad.loc[3,])\n",
    "R_0_trad"
   ]
  },
  {
   "cell_type": "code",
   "execution_count": 66,
   "metadata": {},
   "outputs": [
    {
     "data": {
      "text/plain": [
       "sim-1-m.csv     2.616884\n",
       "sim-10-m.csv    1.195837\n",
       "sim-2-m.csv     4.592966\n",
       "sim-3-m.csv     1.032465\n",
       "sim-4-m.csv     2.307061\n",
       "sim-5-m.csv     0.929623\n",
       "sim-6-m.csv     2.508438\n",
       "sim-7-m.csv     4.762620\n",
       "sim-8-m.csv     3.580645\n",
       "sim-9-m.csv     7.844318\n",
       "dtype: float64"
      ]
     },
     "execution_count": 66,
     "metadata": {},
     "output_type": "execute_result"
    }
   ],
   "source": [
    "params_trad = pd.DataFrame([])\n",
    "for file in csv :\n",
    "    df = pd.read_csv(file)\n",
    "    params_trad[file] = optim(df, method='Powell', init=[0.15, 0.075, 0.05, 0.1])\n",
    "    \n",
    "params_trad # rows: beta, mu, sigma, gamma\n",
    "\n",
    "R_0_trad = (params_trad.loc[0,]/params_trad.loc[2,]) + (params_trad.loc[0,]*params_trad.loc[1,]/params_trad.loc[3,])\n",
    "R_0_trad"
   ]
  },
  {
   "cell_type": "code",
   "execution_count": 67,
   "metadata": {},
   "outputs": [
    {
     "data": {
      "text/plain": [
       "sim-1-p.csv     3.249635\n",
       "sim-10-p.csv    1.913048\n",
       "sim-2-p.csv     2.289714\n",
       "sim-3-p.csv     1.588414\n",
       "sim-4-p.csv     0.358568\n",
       "sim-5-p.csv     1.520930\n",
       "sim-6-p.csv     0.002193\n",
       "sim-7-p.csv     0.002297\n",
       "sim-8-p.csv     1.926397\n",
       "sim-9-p.csv     2.003549\n",
       "dtype: float64"
      ]
     },
     "execution_count": 67,
     "metadata": {},
     "output_type": "execute_result"
    }
   ],
   "source": [
    "os.chdir('c:\\\\Users\\\\chloe\\\\Desktop\\\\ChloeYou\\\\UBC_grad\\\\Term3\\\\MATH561\\\\math561-gp-SuEIR\\\\data\\\\python')\n",
    "\n",
    "params_nn = pd.DataFrame([])\n",
    "for file in os.listdir(os.getcwd()):\n",
    "    df = pd.read_csv(file)\n",
    "    params_nn[file] = optim(df,method='Powell', init=[0.5,0.5,0.5,0.05])\n",
    "    \n",
    "params_nn # rows: beta, mu, sigma, gamma\n",
    "\n",
    "R_0_nn = (params_nn.loc[0,]/params_nn.loc[2,]) + (params_nn.loc[0,]*params_nn.loc[1,]/params_nn.loc[3,])\n",
    "R_0_nn\n"
   ]
  },
  {
   "cell_type": "code",
   "execution_count": 68,
   "metadata": {},
   "outputs": [
    {
     "data": {
      "text/plain": [
       "sim-1-p.csv     3.280390\n",
       "sim-10-p.csv    1.478755\n",
       "sim-2-p.csv     1.637985\n",
       "sim-3-p.csv     1.394264\n",
       "sim-4-p.csv     1.227441\n",
       "sim-5-p.csv     1.574160\n",
       "sim-6-p.csv     2.839733\n",
       "sim-7-p.csv     2.890974\n",
       "sim-8-p.csv     1.238996\n",
       "sim-9-p.csv     1.502232\n",
       "dtype: float64"
      ]
     },
     "execution_count": 68,
     "metadata": {},
     "output_type": "execute_result"
    }
   ],
   "source": [
    "params_nn = pd.DataFrame([])\n",
    "for file in os.listdir(os.getcwd()):\n",
    "    df = pd.read_csv(file)\n",
    "    params_nn[file] = optim(df,method='Powell', init=[0.15, 0.075, 0.05, 0.1])\n",
    "    \n",
    "params_nn # rows: beta, mu, sigma, gamma\n",
    "\n",
    "R_0_nn = (params_nn.loc[0,]/params_nn.loc[2,]) + (params_nn.loc[0,]*params_nn.loc[1,]/params_nn.loc[3,])\n",
    "R_0_nn\n"
   ]
  }
 ],
 "metadata": {
  "kernelspec": {
   "display_name": "Python 3.10.8 64-bit (microsoft store)",
   "language": "python",
   "name": "python3"
  },
  "language_info": {
   "codemirror_mode": {
    "name": "ipython",
    "version": 3
   },
   "file_extension": ".py",
   "mimetype": "text/x-python",
   "name": "python",
   "nbconvert_exporter": "python",
   "pygments_lexer": "ipython3",
   "version": "3.10.8"
  },
  "orig_nbformat": 4,
  "vscode": {
   "interpreter": {
    "hash": "e2d4454e754156b895c5e06d3d0984fa0fadbfd41cd61912f0f1789ecf87b4c7"
   }
  }
 },
 "nbformat": 4,
 "nbformat_minor": 2
}
