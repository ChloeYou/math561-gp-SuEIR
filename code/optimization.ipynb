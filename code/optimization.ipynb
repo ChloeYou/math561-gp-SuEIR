{
 "cells": [
  {
   "cell_type": "code",
   "execution_count": 68,
   "metadata": {},
   "outputs": [
    {
     "data": {
      "text/plain": [
       "'c:\\\\Users\\\\chloe\\\\Desktop\\\\ChloeYou\\\\UBC_grad\\\\Term3\\\\MATH561\\\\math561-gp-SuEIR\\\\code'"
      ]
     },
     "execution_count": 68,
     "metadata": {},
     "output_type": "execute_result"
    }
   ],
   "source": [
    "# load packages\n",
    "import numpy as np\n",
    "import scipy as sp\n",
    "import pandas as pd\n",
    "from scipy import optimize as opt\n",
    "from scipy.integrate import odeint \n",
    "from scipy.optimize import minimize\n",
    "os.getcwd()\n"
   ]
  },
  {
   "cell_type": "markdown",
   "metadata": {},
   "source": [
    "Now consider parameter learning for the SuEIR model. Given the model parameters $\\boldsymbol{\\theta}$ and initial quantities $S_0, E_0, I_0$, and $R_0$, we can compute the number of individuals in each group (i.e., $S, E, I$, and $R$ ) at time $t$, denoted by $\\widehat{S}_t, \\widehat{E}_t, \\widehat{I}_t$ and $\\widehat{R}_t$, via applying  numerical ODE solvers onto the ODE. Then we propose to learn the model parameter $\\widehat{\\boldsymbol{\\theta}}=(\\widehat{\\beta}, \\widehat{\\sigma}, \\widehat{\\gamma}, \\widehat{\\mu})$ by minimizing the following logarithmic-type mean square error (MSE):\n",
    "$$\n",
    "L(\\boldsymbol{\\theta} ; \\mathbf{I}, \\mathbf{R})=\\frac{1}{T} \\sum_{t=1}^T\\left[\\left(\\log \\left(\\widehat{I}_t+p\\right)-\\log \\left(I_t+p\\right)\\right)^2+\\left(\\log \\left(\\widehat{R}_t+p\\right)-\\log \\left(R_t+p\\right)\\right)^2\\right],\n",
    "$$\n",
    "where $\\mathbf{I}=\\left\\{I_t\\right\\}_{t=1}^T, \\mathbf{R}=\\left\\{R_t\\right\\}_{t=1}^T$ with $I_t$ and $R_t$ denote the reported numbers of infected cases and removed cases (including both recovered cases and fatality cases) at time $t$ (i.e., date), and $p$ is the smoothing parameter used to ensure numerical stability. Note that given $S_0, E_0, I_0$ and $R_0, \\widehat{I}_t$ and $\\widehat{R}_t$ can be described as differentiable functions of the parameter $\\boldsymbol{\\theta}$. Then the model parameter $\\widehat{\\boldsymbol{\\theta}}=\\operatorname{argmin}_{\\boldsymbol{\\theta}} L(\\boldsymbol{\\theta} ; \\mathbf{I}, \\mathbf{R})$ can be learnt by applying standard gradient based optimizer (e.g., BFGS) onto the loss function under the constraint that $\\beta, \\sigma, \\gamma, \\mu \\in[0,1]$."
   ]
  },
  {
   "cell_type": "code",
   "execution_count": 98,
   "metadata": {},
   "outputs": [],
   "source": [
    "def loss(pred, target, smoothing=20): \n",
    "    return np.mean((np.log(pred+smoothing) - np.log(target+smoothing))**2)\n"
   ]
  },
  {
   "cell_type": "markdown",
   "metadata": {},
   "source": [
    "$$\n",
    "L(\\boldsymbol{\\theta} ; \\mathbf{I}, \\mathbf{R})=\\frac{1}{T} \\sum_{t=1}^T\\left[\\left(\\log \\left(\\widehat{I}_t+p\\right)-\\log \\left(I_t+p\\right)\\right)^2+\\left(\\log \\left(\\widehat{R}_t+p\\right)-\\log \\left(R_t+p\\right)\\right)^2\\right],\n",
    "$$\n"
   ]
  },
  {
   "cell_type": "code",
   "execution_count": 99,
   "metadata": {},
   "outputs": [],
   "source": [
    "# SEIR: the 'reported' SEIR. In our case, the simulated dataset. \n",
    "def optim(SEIR):\n",
    "    # maybe these could be passed into the function as  \n",
    "    # parameters if the estimation parts change\n",
    "    y0 = [800.0, 100.0, 50.0, 50.0]\n",
    "    t = np.linspace(0, 59, 60)\n",
    "    N, beta, mu, sigma, gamma = 1000.0, 0.1, 0.1, 0.09, 0.12 \n",
    "   \n",
    "    def deriv(y, t, N, beta, mu, sigma, gamma):\n",
    "        s,e,i,r= y\n",
    "        dsdt = -((beta * (e + i) * s) / N)\n",
    "        dedt = (((beta * (e + i) * s) / N) - sigma * e)\n",
    "        didt = (mu * sigma * e - (gamma * i))\n",
    "        drdt = (gamma * i)  \n",
    "        return dsdt, dedt, didt, drdt\n",
    "    \n",
    "    def objective(x):\n",
    "        beta, mu, sigma, gamma = x\n",
    "        est_SEIR = odeint(deriv, y0, t, args=(N, beta, mu, sigma, gamma))\n",
    "        est_df = pd.DataFrame(est_SEIR, columns = ['S','E','I','R'])\n",
    "        return loss(est_df.loc[:,\"I\"], SEIR.loc[:,\"I\"]) +  loss(est_df.loc[:,\"R\"], SEIR.loc[:,\"R\"])\n",
    "\n",
    "    # scipy optimizer\n",
    "    optimal = minimize(\n",
    "        objective,\n",
    "        [0.2, .5e-2, 2.5e-1, 0.01], # initial estimate\n",
    "        method='Nelder-Mead',\n",
    "        bounds=[(0.0001, .3), (0.001, 0.3), (0.01, 1), (0.001, 1.)]\n",
    "    )\n",
    "\n",
    "    return optimal.x"
   ]
  },
  {
   "cell_type": "markdown",
   "metadata": {},
   "source": [
    "Load datasets and then minimize the objective function and obtain parameter estimates:"
   ]
  },
  {
   "cell_type": "code",
   "execution_count": 100,
   "metadata": {},
   "outputs": [
    {
     "data": {
      "text/plain": [
       "array([0.3       , 0.001     , 0.15973786, 0.07900593])"
      ]
     },
     "execution_count": 100,
     "metadata": {},
     "output_type": "execute_result"
    }
   ],
   "source": [
    "# TODO automate reading in simulation data\n",
    "SEIR = pd.read_csv(r'c:\\\\Users\\\\chloe\\\\Desktop\\\\ChloeYou\\\\UBC_grad\\\\Term3\\\\MATH561\\\\math561-gp-SuEIR\\\\data\\\\python\\\\sim-1-p.csv')\n",
    "optim(SEIR) # beta, mu, sigma, gamma"
   ]
  },
  {
   "cell_type": "code",
   "execution_count": null,
   "metadata": {},
   "outputs": [],
   "source": []
  },
  {
   "cell_type": "markdown",
   "metadata": {},
   "source": [
    "Calculate R_0 for each simulation:"
   ]
  }
 ],
 "metadata": {
  "kernelspec": {
   "display_name": "Python 3.10.8 64-bit (microsoft store)",
   "language": "python",
   "name": "python3"
  },
  "language_info": {
   "codemirror_mode": {
    "name": "ipython",
    "version": 3
   },
   "file_extension": ".py",
   "mimetype": "text/x-python",
   "name": "python",
   "nbconvert_exporter": "python",
   "pygments_lexer": "ipython3",
   "version": "3.10.8"
  },
  "orig_nbformat": 4,
  "vscode": {
   "interpreter": {
    "hash": "e2d4454e754156b895c5e06d3d0984fa0fadbfd41cd61912f0f1789ecf87b4c7"
   }
  }
 },
 "nbformat": 4,
 "nbformat_minor": 2
}
