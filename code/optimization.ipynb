{
 "cells": [
  {
   "cell_type": "code",
   "execution_count": 165,
   "metadata": {},
   "outputs": [],
   "source": [
    "# load packages\n",
    "import numpy as np\n",
    "import scipy as sp\n",
    "import pandas as pd\n",
    "from scipy import optimize as opt\n",
    "from scipy.integrate import odeint \n",
    "from scipy.optimize import minimize"
   ]
  },
  {
   "cell_type": "markdown",
   "metadata": {},
   "source": [
    "Now consider parameter learning for the SuEIR model. Given the model parameters $\\boldsymbol{\\theta}$ and initial quantities $S_0, E_0, I_0$, and $R_0$, we can compute the number of individuals in each group (i.e., $S, E, I$, and $R$ ) at time $t$, denoted by $\\widehat{S}_t, \\widehat{E}_t, \\widehat{I}_t$ and $\\widehat{R}_t$, via applying  numerical ODE solvers onto the ODE. Then we propose to learn the model parameter $\\widehat{\\boldsymbol{\\theta}}=(\\widehat{\\beta}, \\widehat{\\sigma}, \\widehat{\\gamma}, \\widehat{\\mu})$ by minimizing the following logarithmic-type mean square error (MSE).\n",
    "\n",
    "Where $\\mathbf{I}=\\left\\{I_t\\right\\}_{t=1}^T, \\mathbf{R}=\\left\\{R_t\\right\\}_{t=1}^T$ with $I_t$ and $R_t$ denote the reported numbers of infected cases and removed cases (including both recovered cases and fatality cases) at time $t$ (i.e., date), and $p$ is the smoothing parameter used to ensure numerical stability. Note that given $S_0, E_0, I_0$ and $R_0, \\widehat{I}_t$ and $\\widehat{R}_t$ can be described as differentiable functions of the parameter $\\boldsymbol{\\theta}$. Then the model parameter $\\widehat{\\boldsymbol{\\theta}}=\\operatorname{argmin}_{\\boldsymbol{\\theta}} L(\\boldsymbol{\\theta} ; \\mathbf{I}, \\mathbf{R})$ can be learnt by applying standard gradient based optimizer (e.g., BFGS) onto the loss function under the constraint that $\\beta, \\sigma, \\gamma, \\mu \\in[0,1]$."
   ]
  },
  {
   "cell_type": "markdown",
   "metadata": {},
   "source": [
    "$$\n",
    "L(\\boldsymbol{\\theta} ; \\mathbf{I}, \\mathbf{R})=\\frac{1}{T} \\sum_{t=1}^T\\left[\\left(\\log \\left(\\widehat{I}_t+p\\right)-\\log \\left(I_t+p\\right)\\right)^2+\\left(\\log \\left(\\widehat{R}_t+p\\right)-\\log \\left(R_t+p\\right)\\right)^2\\right],\n",
    "$$\n"
   ]
  },
  {
   "cell_type": "code",
   "execution_count": 166,
   "metadata": {},
   "outputs": [],
   "source": [
    "def loss(pred, target, smoothing=20): \n",
    "    return np.mean((np.log(pred+smoothing) - np.log(target+smoothing))**2)\n",
    "    \n",
    "# SEIR: the 'reported' SEIR. In our case, the simulated dataset. \n",
    "def optim(SEIR):\n",
    "    # maybe these could be passed into the function as  \n",
    "    # parameters if the estimation parts change\n",
    "    y0 = [800.0, 100.0, 50.0, 50.0]\n",
    "    t = np.linspace(0, 59, 60)\n",
    "    N  = 1000.0  \n",
    "    def deriv(y, t, N, beta, mu, sigma, gamma):\n",
    "        s,e,i,r= y\n",
    "        dsdt = -((beta * (e + i) * s) / N)\n",
    "        dedt = (((beta * (e + i) * s) / N) - sigma * e)\n",
    "        didt = (mu * sigma * e - (gamma * i))\n",
    "        drdt = (gamma * i)  \n",
    "        return dsdt, dedt, didt, drdt\n",
    "    \n",
    "    def objective(x):\n",
    "        beta, mu, sigma, gamma = x\n",
    "        est_SEIR = odeint(deriv, y0, t, args=(N, beta, mu, sigma, gamma))\n",
    "        est_df = pd.DataFrame(est_SEIR, columns = ['S','E','I','R'])\n",
    "        return loss(est_df.loc[:,\"I\"], SEIR.loc[:,\"I\"]) +  loss(est_df.loc[:,\"R\"], SEIR.loc[:,\"R\"])\n",
    "\n",
    "    # scipy optimizer\n",
    "    optimal = minimize(\n",
    "        objective,\n",
    "        [0.05,0.05,0.05,0.05], # initial estimate\n",
    "        method='L-BFGS-B',\n",
    "        bounds=[(0.0001, .3), (0.001, 0.3), (0.01, 1), (0.001, 1.)] # bounded based on prior knowledge\n",
    "    )\n",
    "\n",
    "    return optimal.x"
   ]
  },
  {
   "cell_type": "markdown",
   "metadata": {},
   "source": [
    "Load datasets and then minimize the objective function and obtain parameter estimates:"
   ]
  },
  {
   "cell_type": "code",
   "execution_count": 167,
   "metadata": {},
   "outputs": [
    {
     "data": {
      "text/html": [
       "<div>\n",
       "<style scoped>\n",
       "    .dataframe tbody tr th:only-of-type {\n",
       "        vertical-align: middle;\n",
       "    }\n",
       "\n",
       "    .dataframe tbody tr th {\n",
       "        vertical-align: top;\n",
       "    }\n",
       "\n",
       "    .dataframe thead th {\n",
       "        text-align: right;\n",
       "    }\n",
       "</style>\n",
       "<table border=\"1\" class=\"dataframe\">\n",
       "  <thead>\n",
       "    <tr style=\"text-align: right;\">\n",
       "      <th></th>\n",
       "      <th>sim-1-p.csv</th>\n",
       "      <th>sim-10-p.csv</th>\n",
       "      <th>sim-2-p.csv</th>\n",
       "      <th>sim-3-p.csv</th>\n",
       "      <th>sim-4-p.csv</th>\n",
       "      <th>sim-5-p.csv</th>\n",
       "      <th>sim-6-p.csv</th>\n",
       "      <th>sim-7-p.csv</th>\n",
       "      <th>sim-8-p.csv</th>\n",
       "      <th>sim-9-p.csv</th>\n",
       "    </tr>\n",
       "  </thead>\n",
       "  <tbody>\n",
       "    <tr>\n",
       "      <th>0</th>\n",
       "      <td>0.060931</td>\n",
       "      <td>0.178104</td>\n",
       "      <td>0.199082</td>\n",
       "      <td>0.153612</td>\n",
       "      <td>0.232099</td>\n",
       "      <td>0.124057</td>\n",
       "      <td>0.300000</td>\n",
       "      <td>0.300000</td>\n",
       "      <td>0.244830</td>\n",
       "      <td>0.181164</td>\n",
       "    </tr>\n",
       "    <tr>\n",
       "      <th>1</th>\n",
       "      <td>0.300000</td>\n",
       "      <td>0.300000</td>\n",
       "      <td>0.300000</td>\n",
       "      <td>0.300000</td>\n",
       "      <td>0.134965</td>\n",
       "      <td>0.300000</td>\n",
       "      <td>0.113158</td>\n",
       "      <td>0.114356</td>\n",
       "      <td>0.297886</td>\n",
       "      <td>0.300000</td>\n",
       "    </tr>\n",
       "    <tr>\n",
       "      <th>2</th>\n",
       "      <td>0.225498</td>\n",
       "      <td>0.051532</td>\n",
       "      <td>0.055540</td>\n",
       "      <td>0.057686</td>\n",
       "      <td>0.124354</td>\n",
       "      <td>0.078436</td>\n",
       "      <td>0.183636</td>\n",
       "      <td>0.193247</td>\n",
       "      <td>0.028638</td>\n",
       "      <td>0.051798</td>\n",
       "    </tr>\n",
       "    <tr>\n",
       "      <th>3</th>\n",
       "      <td>0.121821</td>\n",
       "      <td>0.098759</td>\n",
       "      <td>0.083482</td>\n",
       "      <td>0.113969</td>\n",
       "      <td>0.121669</td>\n",
       "      <td>0.120308</td>\n",
       "      <td>0.125316</td>\n",
       "      <td>0.126875</td>\n",
       "      <td>0.121924</td>\n",
       "      <td>0.095446</td>\n",
       "    </tr>\n",
       "  </tbody>\n",
       "</table>\n",
       "</div>"
      ],
      "text/plain": [
       "   sim-1-p.csv  sim-10-p.csv  sim-2-p.csv  sim-3-p.csv  sim-4-p.csv  \\\n",
       "0     0.060931      0.178104     0.199082     0.153612     0.232099   \n",
       "1     0.300000      0.300000     0.300000     0.300000     0.134965   \n",
       "2     0.225498      0.051532     0.055540     0.057686     0.124354   \n",
       "3     0.121821      0.098759     0.083482     0.113969     0.121669   \n",
       "\n",
       "   sim-5-p.csv  sim-6-p.csv  sim-7-p.csv  sim-8-p.csv  sim-9-p.csv  \n",
       "0     0.124057     0.300000     0.300000     0.244830     0.181164  \n",
       "1     0.300000     0.113158     0.114356     0.297886     0.300000  \n",
       "2     0.078436     0.183636     0.193247     0.028638     0.051798  \n",
       "3     0.120308     0.125316     0.126875     0.121924     0.095446  "
      ]
     },
     "execution_count": 167,
     "metadata": {},
     "output_type": "execute_result"
    }
   ],
   "source": [
    "os.chdir('c:\\\\Users\\\\chloe\\\\Desktop\\\\ChloeYou\\\\UBC_grad\\\\Term3\\\\MATH561\\\\math561-gp-SuEIR\\\\data\\\\python')\n",
    "\n",
    "params_trad = pd.DataFrame([])\n",
    "for file in os.listdir(os.getcwd()) :\n",
    "    df = pd.read_csv(file)\n",
    "    params_trad[file] = optim(df)\n",
    "    \n",
    "params_trad # rows: beta, mu, sigma, gamma\n"
   ]
  },
  {
   "cell_type": "code",
   "execution_count": 168,
   "metadata": {},
   "outputs": [
    {
     "name": "stdout",
     "output_type": "stream",
     "text": [
      "['sim-1-m.csv', 'sim-10-m.csv', 'sim-2-m.csv', 'sim-3-m.csv', 'sim-4-m.csv', 'sim-5-m.csv', 'sim-6-m.csv', 'sim-7-m.csv', 'sim-8-m.csv', 'sim-9-m.csv']\n"
     ]
    },
    {
     "data": {
      "text/html": [
       "<div>\n",
       "<style scoped>\n",
       "    .dataframe tbody tr th:only-of-type {\n",
       "        vertical-align: middle;\n",
       "    }\n",
       "\n",
       "    .dataframe tbody tr th {\n",
       "        vertical-align: top;\n",
       "    }\n",
       "\n",
       "    .dataframe thead th {\n",
       "        text-align: right;\n",
       "    }\n",
       "</style>\n",
       "<table border=\"1\" class=\"dataframe\">\n",
       "  <thead>\n",
       "    <tr style=\"text-align: right;\">\n",
       "      <th></th>\n",
       "      <th>sim-1-m.csv</th>\n",
       "      <th>sim-10-m.csv</th>\n",
       "      <th>sim-2-m.csv</th>\n",
       "      <th>sim-3-m.csv</th>\n",
       "      <th>sim-4-m.csv</th>\n",
       "      <th>sim-5-m.csv</th>\n",
       "      <th>sim-6-m.csv</th>\n",
       "      <th>sim-7-m.csv</th>\n",
       "      <th>sim-8-m.csv</th>\n",
       "      <th>sim-9-m.csv</th>\n",
       "    </tr>\n",
       "  </thead>\n",
       "  <tbody>\n",
       "    <tr>\n",
       "      <th>0</th>\n",
       "      <td>0.300000</td>\n",
       "      <td>0.100088</td>\n",
       "      <td>0.300000</td>\n",
       "      <td>0.299920</td>\n",
       "      <td>0.199981</td>\n",
       "      <td>0.100091</td>\n",
       "      <td>0.300000</td>\n",
       "      <td>0.299559</td>\n",
       "      <td>0.299836</td>\n",
       "      <td>0.200036</td>\n",
       "    </tr>\n",
       "    <tr>\n",
       "      <th>1</th>\n",
       "      <td>0.060381</td>\n",
       "      <td>0.099935</td>\n",
       "      <td>0.055187</td>\n",
       "      <td>0.050007</td>\n",
       "      <td>0.050002</td>\n",
       "      <td>0.049961</td>\n",
       "      <td>0.118024</td>\n",
       "      <td>0.109000</td>\n",
       "      <td>0.100018</td>\n",
       "      <td>0.099986</td>\n",
       "    </tr>\n",
       "    <tr>\n",
       "      <th>2</th>\n",
       "      <td>0.163390</td>\n",
       "      <td>0.090045</td>\n",
       "      <td>0.129959</td>\n",
       "      <td>0.090023</td>\n",
       "      <td>0.089998</td>\n",
       "      <td>0.090034</td>\n",
       "      <td>0.166595</td>\n",
       "      <td>0.131456</td>\n",
       "      <td>0.090065</td>\n",
       "      <td>0.089980</td>\n",
       "    </tr>\n",
       "    <tr>\n",
       "      <th>3</th>\n",
       "      <td>0.119317</td>\n",
       "      <td>0.120001</td>\n",
       "      <td>0.119582</td>\n",
       "      <td>0.120002</td>\n",
       "      <td>0.119997</td>\n",
       "      <td>0.120000</td>\n",
       "      <td>0.119265</td>\n",
       "      <td>0.119599</td>\n",
       "      <td>0.120000</td>\n",
       "      <td>0.120000</td>\n",
       "    </tr>\n",
       "  </tbody>\n",
       "</table>\n",
       "</div>"
      ],
      "text/plain": [
       "   sim-1-m.csv  sim-10-m.csv  sim-2-m.csv  sim-3-m.csv  sim-4-m.csv  \\\n",
       "0     0.300000      0.100088     0.300000     0.299920     0.199981   \n",
       "1     0.060381      0.099935     0.055187     0.050007     0.050002   \n",
       "2     0.163390      0.090045     0.129959     0.090023     0.089998   \n",
       "3     0.119317      0.120001     0.119582     0.120002     0.119997   \n",
       "\n",
       "   sim-5-m.csv  sim-6-m.csv  sim-7-m.csv  sim-8-m.csv  sim-9-m.csv  \n",
       "0     0.100091     0.300000     0.299559     0.299836     0.200036  \n",
       "1     0.049961     0.118024     0.109000     0.100018     0.099986  \n",
       "2     0.090034     0.166595     0.131456     0.090065     0.089980  \n",
       "3     0.120000     0.119265     0.119599     0.120000     0.120000  "
      ]
     },
     "execution_count": 168,
     "metadata": {},
     "output_type": "execute_result"
    }
   ],
   "source": [
    "os.chdir('c:\\\\Users\\\\chloe\\\\Desktop\\\\ChloeYou\\\\UBC_grad\\\\Term3\\\\MATH561\\\\math561-gp-SuEIR\\\\data\\\\matlab')\n",
    "\n",
    "csv = os.listdir(os.getcwd())\n",
    "del csv[0] # this is the ground truth so we will only calculate the R_0 from it\n",
    "print(csv)\n",
    "params_nn = pd.DataFrame([])\n",
    "for file in csv :\n",
    "    df = pd.read_csv(file)\n",
    "    params_nn[file] = optim(df)\n",
    "    \n",
    "params_nn # rows: beta, mu, sigma, gamma"
   ]
  },
  {
   "cell_type": "markdown",
   "metadata": {},
   "source": [
    "Calculate R_0 for each simulation:\n",
    "$$\n",
    "R_0 = \\frac{\\beta}{\\sigma} +\\frac{\\beta\\mu}{\\gamma}\n",
    "$$"
   ]
  },
  {
   "cell_type": "code",
   "execution_count": 169,
   "metadata": {},
   "outputs": [
    {
     "data": {
      "text/plain": [
       "sim-1-p.csv     0.420256\n",
       "sim-10-p.csv    3.997187\n",
       "sim-2-p.csv     4.299878\n",
       "sim-3-p.csv     3.067265\n",
       "sim-4-p.csv     2.123900\n",
       "sim-5-p.csv     1.890971\n",
       "sim-6-p.csv     1.904559\n",
       "sim-7-p.csv     1.822815\n",
       "sim-8-p.csv     9.147381\n",
       "sim-9-p.csv     4.066956\n",
       "dtype: float64"
      ]
     },
     "execution_count": 169,
     "metadata": {},
     "output_type": "execute_result"
    }
   ],
   "source": [
    "R_0_trad = (params_trad.loc[0,]/params_trad.loc[2,]) + (params_trad.loc[0,]*params_trad.loc[1,]/params_trad.loc[3,])\n",
    "R_0_trad\n"
   ]
  },
  {
   "cell_type": "code",
   "execution_count": 170,
   "metadata": {},
   "outputs": [
    {
     "data": {
      "text/plain": [
       "sim-1-m.csv     1.987912\n",
       "sim-10-m.csv    1.194881\n",
       "sim-2-m.csv     2.446875\n",
       "sim-3-m.csv     3.456575\n",
       "sim-4-m.csv     2.305388\n",
       "sim-5-m.csv     1.153372\n",
       "sim-6-m.csv     2.097651\n",
       "sim-7-m.csv     2.551799\n",
       "sim-8-m.csv     3.579027\n",
       "sim-9-m.csv     2.389792\n",
       "dtype: float64"
      ]
     },
     "execution_count": 170,
     "metadata": {},
     "output_type": "execute_result"
    }
   ],
   "source": [
    "R_0_nn = (params_nn.loc[0,]/params_nn.loc[2,]) + (params_nn.loc[0,]*params_nn.loc[1,]/params_nn.loc[3,])\n",
    "R_0_nn"
   ]
  },
  {
   "cell_type": "markdown",
   "metadata": {},
   "source": [
    "Let's compare these estimated values to the 'true' $R_0 = \\frac{0.1}{0.09} +\\frac{0.1*0.1}{0.12} = 1.19$ \n",
    "\n",
    "Also, since the objective function is non-convex, the initial parameter used for optimization\n",
    "varies the estimate a lot. \n",
    "\n",
    "We look at the sum of the absolute value of bias:"
   ]
  },
  {
   "cell_type": "code",
   "execution_count": 174,
   "metadata": {},
   "outputs": [
    {
     "data": {
      "text/plain": [
       "22.380655298428383"
      ]
     },
     "execution_count": 174,
     "metadata": {},
     "output_type": "execute_result"
    }
   ],
   "source": [
    "sum(abs(R_0_trad - 1.19))"
   ]
  },
  {
   "cell_type": "code",
   "execution_count": 175,
   "metadata": {},
   "outputs": [
    {
     "data": {
      "text/plain": [
       "11.336527242462807"
      ]
     },
     "execution_count": 175,
     "metadata": {},
     "output_type": "execute_result"
    }
   ],
   "source": [
    "\n",
    "sum(abs(R_0_nn - 1.19))"
   ]
  }
 ],
 "metadata": {
  "kernelspec": {
   "display_name": "Python 3.10.8 64-bit (microsoft store)",
   "language": "python",
   "name": "python3"
  },
  "language_info": {
   "codemirror_mode": {
    "name": "ipython",
    "version": 3
   },
   "file_extension": ".py",
   "mimetype": "text/x-python",
   "name": "python",
   "nbconvert_exporter": "python",
   "pygments_lexer": "ipython3",
   "version": "3.10.8"
  },
  "orig_nbformat": 4,
  "vscode": {
   "interpreter": {
    "hash": "e2d4454e754156b895c5e06d3d0984fa0fadbfd41cd61912f0f1789ecf87b4c7"
   }
  }
 },
 "nbformat": 4,
 "nbformat_minor": 2
}
