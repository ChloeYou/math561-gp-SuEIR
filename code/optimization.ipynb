{
 "cells": [
  {
   "cell_type": "code",
   "execution_count": 103,
   "metadata": {},
   "outputs": [
    {
     "data": {
      "text/plain": [
       "'c:\\\\Users\\\\chloe\\\\Desktop\\\\ChloeYou\\\\UBC_grad\\\\Term3\\\\MATH561\\\\math561-gp-SuEIR\\\\code'"
      ]
     },
     "execution_count": 103,
     "metadata": {},
     "output_type": "execute_result"
    }
   ],
   "source": [
    "# load packages\n",
    "import numpy as np\n",
    "import scipy as sp\n",
    "import pandas as pd\n",
    "from scipy import optimize as opt\n",
    "from scipy.integrate import odeint \n",
    "from scipy.optimize import minimize"
   ]
  },
  {
   "cell_type": "markdown",
   "metadata": {},
   "source": [
    "Now consider parameter learning for the SuEIR model. Given the model parameters $\\boldsymbol{\\theta}$ and initial quantities $S_0, E_0, I_0$, and $R_0$, we can compute the number of individuals in each group (i.e., $S, E, I$, and $R$ ) at time $t$, denoted by $\\widehat{S}_t, \\widehat{E}_t, \\widehat{I}_t$ and $\\widehat{R}_t$, via applying  numerical ODE solvers onto the ODE. Then we propose to learn the model parameter $\\widehat{\\boldsymbol{\\theta}}=(\\widehat{\\beta}, \\widehat{\\sigma}, \\widehat{\\gamma}, \\widehat{\\mu})$ by minimizing the following logarithmic-type mean square error (MSE).\n",
    "\n",
    "Where $\\mathbf{I}=\\left\\{I_t\\right\\}_{t=1}^T, \\mathbf{R}=\\left\\{R_t\\right\\}_{t=1}^T$ with $I_t$ and $R_t$ denote the reported numbers of infected cases and removed cases (including both recovered cases and fatality cases) at time $t$ (i.e., date), and $p$ is the smoothing parameter used to ensure numerical stability. Note that given $S_0, E_0, I_0$ and $R_0, \\widehat{I}_t$ and $\\widehat{R}_t$ can be described as differentiable functions of the parameter $\\boldsymbol{\\theta}$. Then the model parameter $\\widehat{\\boldsymbol{\\theta}}=\\operatorname{argmin}_{\\boldsymbol{\\theta}} L(\\boldsymbol{\\theta} ; \\mathbf{I}, \\mathbf{R})$ can be learnt by applying standard gradient based optimizer (e.g., BFGS) onto the loss function under the constraint that $\\beta, \\sigma, \\gamma, \\mu \\in[0,1]$."
   ]
  },
  {
   "cell_type": "markdown",
   "metadata": {},
   "source": [
    "$$\n",
    "L(\\boldsymbol{\\theta} ; \\mathbf{I}, \\mathbf{R})=\\frac{1}{T} \\sum_{t=1}^T\\left[\\left(\\log \\left(\\widehat{I}_t+p\\right)-\\log \\left(I_t+p\\right)\\right)^2+\\left(\\log \\left(\\widehat{R}_t+p\\right)-\\log \\left(R_t+p\\right)\\right)^2\\right],\n",
    "$$\n"
   ]
  },
  {
   "cell_type": "code",
   "execution_count": 145,
   "metadata": {},
   "outputs": [],
   "source": [
    "def loss(pred, target, smoothing=20): \n",
    "    return np.mean((np.log(pred+smoothing) - np.log(target+smoothing))**2)\n",
    "    \n",
    "# SEIR: the 'reported' SEIR. In our case, the simulated dataset. \n",
    "def optim(SEIR):\n",
    "    # maybe these could be passed into the function as  \n",
    "    # parameters if the estimation parts change\n",
    "    y0 = [800.0, 100.0, 50.0, 50.0]\n",
    "    t = np.linspace(0, 59, 60)\n",
    "    N  = 1000.0  \n",
    "    def deriv(y, t, N, beta, mu, sigma, gamma):\n",
    "        s,e,i,r= y\n",
    "        dsdt = -((beta * (e + i) * s) / N)\n",
    "        dedt = (((beta * (e + i) * s) / N) - sigma * e)\n",
    "        didt = (mu * sigma * e - (gamma * i))\n",
    "        drdt = (gamma * i)  \n",
    "        return dsdt, dedt, didt, drdt\n",
    "    \n",
    "    def objective(x):\n",
    "        beta, mu, sigma, gamma = x\n",
    "        est_SEIR = odeint(deriv, y0, t, args=(N, beta, mu, sigma, gamma))\n",
    "        est_df = pd.DataFrame(est_SEIR, columns = ['S','E','I','R'])\n",
    "        return loss(est_df.loc[:,\"I\"], SEIR.loc[:,\"I\"]) +  loss(est_df.loc[:,\"R\"], SEIR.loc[:,\"R\"])\n",
    "\n",
    "    # scipy optimizer\n",
    "    optimal = minimize(\n",
    "        objective,\n",
    "        [0.2, .5e-2, 2.5e-1, 0.01], # initial estimate\n",
    "        method='Nelder-Mead',\n",
    "        bounds=[(0.0001, .3), (0.001, 0.3), (0.01, 1), (0.001, 1.)]\n",
    "    )\n",
    "\n",
    "    return optimal.x"
   ]
  },
  {
   "cell_type": "markdown",
   "metadata": {},
   "source": [
    "Load datasets and then minimize the objective function and obtain parameter estimates:"
   ]
  },
  {
   "cell_type": "code",
   "execution_count": 146,
   "metadata": {},
   "outputs": [
    {
     "data": {
      "text/html": [
       "<div>\n",
       "<style scoped>\n",
       "    .dataframe tbody tr th:only-of-type {\n",
       "        vertical-align: middle;\n",
       "    }\n",
       "\n",
       "    .dataframe tbody tr th {\n",
       "        vertical-align: top;\n",
       "    }\n",
       "\n",
       "    .dataframe thead th {\n",
       "        text-align: right;\n",
       "    }\n",
       "</style>\n",
       "<table border=\"1\" class=\"dataframe\">\n",
       "  <thead>\n",
       "    <tr style=\"text-align: right;\">\n",
       "      <th></th>\n",
       "      <th>sim-1-p.csv</th>\n",
       "      <th>sim-10-p.csv</th>\n",
       "      <th>sim-2-p.csv</th>\n",
       "      <th>sim-3-p.csv</th>\n",
       "      <th>sim-4-p.csv</th>\n",
       "      <th>sim-5-p.csv</th>\n",
       "      <th>sim-6-p.csv</th>\n",
       "      <th>sim-7-p.csv</th>\n",
       "      <th>sim-8-p.csv</th>\n",
       "      <th>sim-9-p.csv</th>\n",
       "    </tr>\n",
       "  </thead>\n",
       "  <tbody>\n",
       "    <tr>\n",
       "      <th>0</th>\n",
       "      <td>0.300000</td>\n",
       "      <td>0.300000</td>\n",
       "      <td>0.199354</td>\n",
       "      <td>0.300000</td>\n",
       "      <td>0.300000</td>\n",
       "      <td>0.300000</td>\n",
       "      <td>0.300000</td>\n",
       "      <td>0.300000</td>\n",
       "      <td>0.137262</td>\n",
       "      <td>0.181348</td>\n",
       "    </tr>\n",
       "    <tr>\n",
       "      <th>1</th>\n",
       "      <td>0.001000</td>\n",
       "      <td>0.299965</td>\n",
       "      <td>0.299999</td>\n",
       "      <td>0.299999</td>\n",
       "      <td>0.001000</td>\n",
       "      <td>0.213042</td>\n",
       "      <td>0.001000</td>\n",
       "      <td>0.001000</td>\n",
       "      <td>0.299482</td>\n",
       "      <td>0.299996</td>\n",
       "    </tr>\n",
       "    <tr>\n",
       "      <th>2</th>\n",
       "      <td>0.159738</td>\n",
       "      <td>0.033030</td>\n",
       "      <td>0.055424</td>\n",
       "      <td>0.028412</td>\n",
       "      <td>0.103648</td>\n",
       "      <td>1.000000</td>\n",
       "      <td>0.119547</td>\n",
       "      <td>0.121854</td>\n",
       "      <td>0.062290</td>\n",
       "      <td>0.051656</td>\n",
       "    </tr>\n",
       "    <tr>\n",
       "      <th>3</th>\n",
       "      <td>0.079006</td>\n",
       "      <td>0.095723</td>\n",
       "      <td>0.083540</td>\n",
       "      <td>0.110760</td>\n",
       "      <td>0.049379</td>\n",
       "      <td>0.072733</td>\n",
       "      <td>0.060722</td>\n",
       "      <td>0.062337</td>\n",
       "      <td>0.116919</td>\n",
       "      <td>0.095466</td>\n",
       "    </tr>\n",
       "  </tbody>\n",
       "</table>\n",
       "</div>"
      ],
      "text/plain": [
       "   sim-1-p.csv  sim-10-p.csv  sim-2-p.csv  sim-3-p.csv  sim-4-p.csv  \\\n",
       "0     0.300000      0.300000     0.199354     0.300000     0.300000   \n",
       "1     0.001000      0.299965     0.299999     0.299999     0.001000   \n",
       "2     0.159738      0.033030     0.055424     0.028412     0.103648   \n",
       "3     0.079006      0.095723     0.083540     0.110760     0.049379   \n",
       "\n",
       "   sim-5-p.csv  sim-6-p.csv  sim-7-p.csv  sim-8-p.csv  sim-9-p.csv  \n",
       "0     0.300000     0.300000     0.300000     0.137262     0.181348  \n",
       "1     0.213042     0.001000     0.001000     0.299482     0.299996  \n",
       "2     1.000000     0.119547     0.121854     0.062290     0.051656  \n",
       "3     0.072733     0.060722     0.062337     0.116919     0.095466  "
      ]
     },
     "execution_count": 146,
     "metadata": {},
     "output_type": "execute_result"
    }
   ],
   "source": [
    "os.chdir('c:\\\\Users\\\\chloe\\\\Desktop\\\\ChloeYou\\\\UBC_grad\\\\Term3\\\\MATH561\\\\math561-gp-SuEIR\\\\data\\\\python')\n",
    "\n",
    "params_trad = pd.DataFrame([])\n",
    "for file in os.listdir(os.getcwd()) :\n",
    "    df = pd.read_csv(file)\n",
    "    params_trad[file] = optim(df)\n",
    "    \n",
    "params_trad # rows: beta, mu, sigma, gamma\n"
   ]
  },
  {
   "cell_type": "code",
   "execution_count": 147,
   "metadata": {},
   "outputs": [
    {
     "name": "stdout",
     "output_type": "stream",
     "text": [
      "['sim-1-m.csv', 'sim-10-m.csv', 'sim-2-m.csv', 'sim-3-m.csv', 'sim-4-m.csv', 'sim-5-m.csv', 'sim-6-m.csv', 'sim-7-m.csv', 'sim-8-m.csv', 'sim-9-m.csv']\n"
     ]
    },
    {
     "data": {
      "text/html": [
       "<div>\n",
       "<style scoped>\n",
       "    .dataframe tbody tr th:only-of-type {\n",
       "        vertical-align: middle;\n",
       "    }\n",
       "\n",
       "    .dataframe tbody tr th {\n",
       "        vertical-align: top;\n",
       "    }\n",
       "\n",
       "    .dataframe thead th {\n",
       "        text-align: right;\n",
       "    }\n",
       "</style>\n",
       "<table border=\"1\" class=\"dataframe\">\n",
       "  <thead>\n",
       "    <tr style=\"text-align: right;\">\n",
       "      <th></th>\n",
       "      <th>sim-1-m.csv</th>\n",
       "      <th>sim-10-m.csv</th>\n",
       "      <th>sim-2-m.csv</th>\n",
       "      <th>sim-3-m.csv</th>\n",
       "      <th>sim-4-m.csv</th>\n",
       "      <th>sim-5-m.csv</th>\n",
       "      <th>sim-6-m.csv</th>\n",
       "      <th>sim-7-m.csv</th>\n",
       "      <th>sim-8-m.csv</th>\n",
       "      <th>sim-9-m.csv</th>\n",
       "    </tr>\n",
       "  </thead>\n",
       "  <tbody>\n",
       "    <tr>\n",
       "      <th>0</th>\n",
       "      <td>0.300000</td>\n",
       "      <td>0.300000</td>\n",
       "      <td>0.300000</td>\n",
       "      <td>0.300000</td>\n",
       "      <td>0.300000</td>\n",
       "      <td>0.300000</td>\n",
       "      <td>0.300000</td>\n",
       "      <td>0.300000</td>\n",
       "      <td>0.300000</td>\n",
       "      <td>0.300000</td>\n",
       "    </tr>\n",
       "    <tr>\n",
       "      <th>1</th>\n",
       "      <td>0.001000</td>\n",
       "      <td>0.001000</td>\n",
       "      <td>0.001000</td>\n",
       "      <td>0.001000</td>\n",
       "      <td>0.001000</td>\n",
       "      <td>0.001000</td>\n",
       "      <td>0.001000</td>\n",
       "      <td>0.001000</td>\n",
       "      <td>0.001000</td>\n",
       "      <td>0.001000</td>\n",
       "    </tr>\n",
       "    <tr>\n",
       "      <th>2</th>\n",
       "      <td>0.104246</td>\n",
       "      <td>0.080340</td>\n",
       "      <td>0.100045</td>\n",
       "      <td>0.092735</td>\n",
       "      <td>0.080929</td>\n",
       "      <td>0.077680</td>\n",
       "      <td>0.111918</td>\n",
       "      <td>0.108472</td>\n",
       "      <td>0.102347</td>\n",
       "      <td>0.090491</td>\n",
       "    </tr>\n",
       "    <tr>\n",
       "      <th>3</th>\n",
       "      <td>0.070776</td>\n",
       "      <td>0.076049</td>\n",
       "      <td>0.070245</td>\n",
       "      <td>0.070619</td>\n",
       "      <td>0.075701</td>\n",
       "      <td>0.095788</td>\n",
       "      <td>0.054076</td>\n",
       "      <td>0.052862</td>\n",
       "      <td>0.051843</td>\n",
       "      <td>0.053977</td>\n",
       "    </tr>\n",
       "  </tbody>\n",
       "</table>\n",
       "</div>"
      ],
      "text/plain": [
       "   sim-1-m.csv  sim-10-m.csv  sim-2-m.csv  sim-3-m.csv  sim-4-m.csv  \\\n",
       "0     0.300000      0.300000     0.300000     0.300000     0.300000   \n",
       "1     0.001000      0.001000     0.001000     0.001000     0.001000   \n",
       "2     0.104246      0.080340     0.100045     0.092735     0.080929   \n",
       "3     0.070776      0.076049     0.070245     0.070619     0.075701   \n",
       "\n",
       "   sim-5-m.csv  sim-6-m.csv  sim-7-m.csv  sim-8-m.csv  sim-9-m.csv  \n",
       "0     0.300000     0.300000     0.300000     0.300000     0.300000  \n",
       "1     0.001000     0.001000     0.001000     0.001000     0.001000  \n",
       "2     0.077680     0.111918     0.108472     0.102347     0.090491  \n",
       "3     0.095788     0.054076     0.052862     0.051843     0.053977  "
      ]
     },
     "execution_count": 147,
     "metadata": {},
     "output_type": "execute_result"
    }
   ],
   "source": [
    "os.chdir('c:\\\\Users\\\\chloe\\\\Desktop\\\\ChloeYou\\\\UBC_grad\\\\Term3\\\\MATH561\\\\math561-gp-SuEIR\\\\data\\\\matlab')\n",
    "\n",
    "csv = os.listdir(os.getcwd())\n",
    "del csv[0] # this is the ground truth so we will only calculate the R_0 from it\n",
    "print(csv)\n",
    "params_nn = pd.DataFrame([])\n",
    "for file in csv :\n",
    "    df = pd.read_csv(file)\n",
    "    params_nn[file] = optim(df)\n",
    "    \n",
    "params_nn # rows: beta, mu, sigma, gamma"
   ]
  },
  {
   "cell_type": "markdown",
   "metadata": {},
   "source": [
    "Calculate R_0 for each simulation:\n",
    "$$\n",
    "R_0 = \\frac{\\beta}{\\sigma} +\\frac{\\beta\\mu}{\\gamma}\n",
    "$$"
   ]
  },
  {
   "cell_type": "code",
   "execution_count": 143,
   "metadata": {},
   "outputs": [
    {
     "data": {
      "text/plain": [
       "sim-1-p.csv      1.881874\n",
       "sim-10-p.csv    10.022770\n",
       "sim-2-p.csv      4.312780\n",
       "sim-3-p.csv     11.371481\n",
       "sim-4-p.csv      2.900479\n",
       "sim-5-p.csv      1.178727\n",
       "sim-6-p.csv      2.514407\n",
       "sim-7-p.csv      2.466778\n",
       "sim-8-p.csv      2.555172\n",
       "sim-9-p.csv      4.080544\n",
       "dtype: float64"
      ]
     },
     "execution_count": 143,
     "metadata": {},
     "output_type": "execute_result"
    }
   ],
   "source": [
    "R_0_trad = (params_trad.loc[0,]/params_trad.loc[2,]) + (params_trad.loc[0,]*params_trad.loc[1,]/params_trad.loc[3,])\n"
   ]
  },
  {
   "cell_type": "code",
   "execution_count": 144,
   "metadata": {},
   "outputs": [
    {
     "data": {
      "text/plain": [
       "sim-1-m.csv     2.882059\n",
       "sim-10-m.csv    3.738078\n",
       "sim-2-m.csv     3.002921\n",
       "sim-3-m.csv     3.239290\n",
       "sim-4-m.csv     3.710916\n",
       "sim-5-m.csv     3.865127\n",
       "sim-6-m.csv     2.686081\n",
       "sim-7-m.csv     2.771377\n",
       "sim-8-m.csv     2.936978\n",
       "sim-9-m.csv     3.320800\n",
       "dtype: float64"
      ]
     },
     "execution_count": 144,
     "metadata": {},
     "output_type": "execute_result"
    }
   ],
   "source": [
    "R_0_nn = (params_nn.loc[0,]/params_nn.loc[2,]) + (params_nn.loc[0,]*params_nn.loc[1,]/params_nn.loc[3,])"
   ]
  },
  {
   "cell_type": "markdown",
   "metadata": {},
   "source": [
    " Let's compare these estimated values to the 'true' $R_0 = \\frac{0.1}{0.09} +\\frac{0.1*0.1}{0.12} = 1.19$ \n",
    "\n",
    "The traditional method gives $R_0$ estimates that vary more, although in some simulation it was able to recover an $R_0$ very close to the 'true' $R_0$. Although it seems like the simulated 'reported' cases that was estimated from the artificial neural network ODE numerical solver gives more reasonable $R_0$ estimates - ranging around 2 and 3."
   ]
  }
 ],
 "metadata": {
  "kernelspec": {
   "display_name": "Python 3.10.8 64-bit (microsoft store)",
   "language": "python",
   "name": "python3"
  },
  "language_info": {
   "codemirror_mode": {
    "name": "ipython",
    "version": 3
   },
   "file_extension": ".py",
   "mimetype": "text/x-python",
   "name": "python",
   "nbconvert_exporter": "python",
   "pygments_lexer": "ipython3",
   "version": "3.10.8"
  },
  "orig_nbformat": 4,
  "vscode": {
   "interpreter": {
    "hash": "e2d4454e754156b895c5e06d3d0984fa0fadbfd41cd61912f0f1789ecf87b4c7"
   }
  }
 },
 "nbformat": 4,
 "nbformat_minor": 2
}
