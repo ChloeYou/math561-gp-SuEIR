{
 "cells": [
  {
   "cell_type": "code",
   "execution_count": 254,
   "metadata": {},
   "outputs": [],
   "source": [
    "# load packages\n",
    "import numpy as np\n",
    "import scipy as sp\n",
    "import pandas as pd\n",
    "from scipy import optimize as opt\n",
    "from scipy.integrate import odeint \n",
    "from scipy.optimize import minimize"
   ]
  },
  {
   "cell_type": "markdown",
   "metadata": {},
   "source": [
    "Now consider parameter learning for the SuEIR model. Given the model parameters $\\boldsymbol{\\theta}$ and initial quantities $S_0, E_0, I_0$, and $R_0$, we can compute the number of individuals in each group (i.e., $S, E, I$, and $R$ ) at time $t$, denoted by $\\widehat{S}_t, \\widehat{E}_t, \\widehat{I}_t$ and $\\widehat{R}_t$, via applying  numerical ODE solvers onto the ODE. Then we propose to learn the model parameter $\\widehat{\\boldsymbol{\\theta}}=(\\widehat{\\beta}, \\widehat{\\sigma}, \\widehat{\\gamma}, \\widehat{\\mu})$ by minimizing the following logarithmic-type mean square error (MSE).\n",
    "\n",
    "Where $\\mathbf{I}=\\left\\{I_t\\right\\}_{t=1}^T, \\mathbf{R}=\\left\\{R_t\\right\\}_{t=1}^T$ with $I_t$ and $R_t$ denote the reported numbers of infected cases and removed cases (including both recovered cases and fatality cases) at time $t$ (i.e., date), and $p$ is the smoothing parameter used to ensure numerical stability. Note that given $S_0, E_0, I_0$ and $R_0, \\widehat{I}_t$ and $\\widehat{R}_t$ can be described as differentiable functions of the parameter $\\boldsymbol{\\theta}$. Then the model parameter $\\widehat{\\boldsymbol{\\theta}}=\\operatorname{argmin}_{\\boldsymbol{\\theta}} L(\\boldsymbol{\\theta} ; \\mathbf{I}, \\mathbf{R})$ can be learnt by applying standard gradient based optimizer (e.g., BFGS) onto the loss function under the constraint that $\\beta, \\sigma, \\gamma, \\mu \\in[0,1]$."
   ]
  },
  {
   "cell_type": "markdown",
   "metadata": {},
   "source": [
    "$$\n",
    "L(\\boldsymbol{\\theta} ; \\mathbf{I}, \\mathbf{R})=\\frac{1}{T} \\sum_{t=1}^T\\left[\\left(\\log \\left(\\widehat{I}_t+p\\right)-\\log \\left(I_t+p\\right)\\right)^2+\\left(\\log \\left(\\widehat{R}_t+p\\right)-\\log \\left(R_t+p\\right)\\right)^2\\right],\n",
    "$$\n"
   ]
  },
  {
   "cell_type": "code",
   "execution_count": 255,
   "metadata": {},
   "outputs": [],
   "source": [
    "def loss(pred, target, smoothing=20): \n",
    "    return np.mean((np.log(pred+smoothing) - np.log(target+smoothing))**2)\n",
    "    \n",
    "# SEIR: the 'reported' SEIR. In our case, the simulated dataset. \n",
    "def optim(SEIR, method = 'L-BFGS-B', init= [0.05,0.05,0.05,0.05]):\n",
    "    # maybe these could be passed into the function as  \n",
    "    # parameters if the estimation parts change\n",
    "    y0 = [800.0, 100.0, 50.0, 50.0]\n",
    "    t = np.linspace(0, 59, 60)\n",
    "    N  = 1000.0  \n",
    "    def deriv(y, t, N, beta, mu, sigma, gamma):\n",
    "        s,e,i,r= y\n",
    "        dsdt = -((beta * (e + i) * s) / N)\n",
    "        dedt = (((beta * (e + i) * s) / N) - sigma * e)\n",
    "        didt = (mu * sigma * e - (gamma * i))\n",
    "        drdt = (gamma * i)  \n",
    "        return dsdt, dedt, didt, drdt\n",
    "    \n",
    "    def objective(x):\n",
    "        beta, mu, sigma, gamma = x\n",
    "        est_SEIR = odeint(deriv, y0, t, args=(N, beta, mu, sigma, gamma))\n",
    "        est_df = pd.DataFrame(est_SEIR, columns = ['S','E','I','R'])\n",
    "        return loss(est_df.loc[:,\"I\"], SEIR.loc[:,\"I\"]) +  loss(est_df.loc[:,\"R\"], SEIR.loc[:,\"R\"])\n",
    "\n",
    "    # scipy optimizer\n",
    "    optimal = minimize(\n",
    "        objective,\n",
    "        init, # initial estimate\n",
    "        method=method,  \n",
    "        bounds=[(0.0001, 0.3),  (0.001, 1.), (0.01, 1), (0.001, 0.3)] # bounded based on prior knowledge: beta, mu, sigma, gamma\n",
    "    )\n",
    "\n",
    "    return optimal.x"
   ]
  },
  {
   "cell_type": "markdown",
   "metadata": {},
   "source": [
    "Load datasets and then minimize the objective function and obtain parameter estimates:"
   ]
  },
  {
   "cell_type": "code",
   "execution_count": 256,
   "metadata": {},
   "outputs": [
    {
     "data": {
      "text/html": [
       "<div>\n",
       "<style scoped>\n",
       "    .dataframe tbody tr th:only-of-type {\n",
       "        vertical-align: middle;\n",
       "    }\n",
       "\n",
       "    .dataframe tbody tr th {\n",
       "        vertical-align: top;\n",
       "    }\n",
       "\n",
       "    .dataframe thead th {\n",
       "        text-align: right;\n",
       "    }\n",
       "</style>\n",
       "<table border=\"1\" class=\"dataframe\">\n",
       "  <thead>\n",
       "    <tr style=\"text-align: right;\">\n",
       "      <th></th>\n",
       "      <th>sim-1-p.csv</th>\n",
       "      <th>sim-10-p.csv</th>\n",
       "      <th>sim-2-p.csv</th>\n",
       "      <th>sim-3-p.csv</th>\n",
       "      <th>sim-4-p.csv</th>\n",
       "      <th>sim-5-p.csv</th>\n",
       "      <th>sim-6-p.csv</th>\n",
       "      <th>sim-7-p.csv</th>\n",
       "      <th>sim-8-p.csv</th>\n",
       "      <th>sim-9-p.csv</th>\n",
       "    </tr>\n",
       "  </thead>\n",
       "  <tbody>\n",
       "    <tr>\n",
       "      <th>0</th>\n",
       "      <td>0.000100</td>\n",
       "      <td>0.055113</td>\n",
       "      <td>0.273961</td>\n",
       "      <td>0.061084</td>\n",
       "      <td>0.232099</td>\n",
       "      <td>0.085347</td>\n",
       "      <td>0.300000</td>\n",
       "      <td>0.300000</td>\n",
       "      <td>0.070909</td>\n",
       "      <td>0.055911</td>\n",
       "    </tr>\n",
       "    <tr>\n",
       "      <th>1</th>\n",
       "      <td>0.535861</td>\n",
       "      <td>0.973282</td>\n",
       "      <td>1.000000</td>\n",
       "      <td>0.707803</td>\n",
       "      <td>0.134974</td>\n",
       "      <td>0.424747</td>\n",
       "      <td>0.113158</td>\n",
       "      <td>0.114356</td>\n",
       "      <td>0.557338</td>\n",
       "      <td>1.000000</td>\n",
       "    </tr>\n",
       "    <tr>\n",
       "      <th>2</th>\n",
       "      <td>0.130974</td>\n",
       "      <td>0.037506</td>\n",
       "      <td>0.010096</td>\n",
       "      <td>0.049646</td>\n",
       "      <td>0.124357</td>\n",
       "      <td>0.072149</td>\n",
       "      <td>0.183636</td>\n",
       "      <td>0.193247</td>\n",
       "      <td>0.055580</td>\n",
       "      <td>0.036574</td>\n",
       "    </tr>\n",
       "    <tr>\n",
       "      <th>3</th>\n",
       "      <td>0.116957</td>\n",
       "      <td>0.120996</td>\n",
       "      <td>0.117069</td>\n",
       "      <td>0.120777</td>\n",
       "      <td>0.121667</td>\n",
       "      <td>0.120812</td>\n",
       "      <td>0.125316</td>\n",
       "      <td>0.126875</td>\n",
       "      <td>0.119958</td>\n",
       "      <td>0.120454</td>\n",
       "    </tr>\n",
       "  </tbody>\n",
       "</table>\n",
       "</div>"
      ],
      "text/plain": [
       "   sim-1-p.csv  sim-10-p.csv  sim-2-p.csv  sim-3-p.csv  sim-4-p.csv  \\\n",
       "0     0.000100      0.055113     0.273961     0.061084     0.232099   \n",
       "1     0.535861      0.973282     1.000000     0.707803     0.134974   \n",
       "2     0.130974      0.037506     0.010096     0.049646     0.124357   \n",
       "3     0.116957      0.120996     0.117069     0.120777     0.121667   \n",
       "\n",
       "   sim-5-p.csv  sim-6-p.csv  sim-7-p.csv  sim-8-p.csv  sim-9-p.csv  \n",
       "0     0.085347     0.300000     0.300000     0.070909     0.055911  \n",
       "1     0.424747     0.113158     0.114356     0.557338     1.000000  \n",
       "2     0.072149     0.183636     0.193247     0.055580     0.036574  \n",
       "3     0.120812     0.125316     0.126875     0.119958     0.120454  "
      ]
     },
     "execution_count": 256,
     "metadata": {},
     "output_type": "execute_result"
    }
   ],
   "source": [
    "os.chdir('c:\\\\Users\\\\chloe\\\\Desktop\\\\ChloeYou\\\\UBC_grad\\\\Term3\\\\MATH561\\\\math561-gp-SuEIR\\\\data\\\\python')\n",
    "\n",
    "params_trad = pd.DataFrame([])\n",
    "for file in os.listdir(os.getcwd()) :\n",
    "    df = pd.read_csv(file)\n",
    "    params_trad[file] = optim(df)\n",
    "    \n",
    "params_trad # rows: beta, mu, sigma, gamma\n"
   ]
  },
  {
   "cell_type": "code",
   "execution_count": 257,
   "metadata": {},
   "outputs": [
    {
     "name": "stdout",
     "output_type": "stream",
     "text": [
      "['sim-1-m.csv', 'sim-10-m.csv', 'sim-2-m.csv', 'sim-3-m.csv', 'sim-4-m.csv', 'sim-5-m.csv', 'sim-6-m.csv', 'sim-7-m.csv', 'sim-8-m.csv', 'sim-9-m.csv']\n"
     ]
    },
    {
     "data": {
      "text/html": [
       "<div>\n",
       "<style scoped>\n",
       "    .dataframe tbody tr th:only-of-type {\n",
       "        vertical-align: middle;\n",
       "    }\n",
       "\n",
       "    .dataframe tbody tr th {\n",
       "        vertical-align: top;\n",
       "    }\n",
       "\n",
       "    .dataframe thead th {\n",
       "        text-align: right;\n",
       "    }\n",
       "</style>\n",
       "<table border=\"1\" class=\"dataframe\">\n",
       "  <thead>\n",
       "    <tr style=\"text-align: right;\">\n",
       "      <th></th>\n",
       "      <th>sim-1-m.csv</th>\n",
       "      <th>sim-10-m.csv</th>\n",
       "      <th>sim-2-m.csv</th>\n",
       "      <th>sim-3-m.csv</th>\n",
       "      <th>sim-4-m.csv</th>\n",
       "      <th>sim-5-m.csv</th>\n",
       "      <th>sim-6-m.csv</th>\n",
       "      <th>sim-7-m.csv</th>\n",
       "      <th>sim-8-m.csv</th>\n",
       "      <th>sim-9-m.csv</th>\n",
       "    </tr>\n",
       "  </thead>\n",
       "  <tbody>\n",
       "    <tr>\n",
       "      <th>0</th>\n",
       "      <td>0.300000</td>\n",
       "      <td>0.100043</td>\n",
       "      <td>0.300000</td>\n",
       "      <td>0.299506</td>\n",
       "      <td>0.200063</td>\n",
       "      <td>0.100062</td>\n",
       "      <td>0.300000</td>\n",
       "      <td>0.300000</td>\n",
       "      <td>0.299867</td>\n",
       "      <td>0.200032</td>\n",
       "    </tr>\n",
       "    <tr>\n",
       "      <th>1</th>\n",
       "      <td>0.060383</td>\n",
       "      <td>0.099964</td>\n",
       "      <td>0.055187</td>\n",
       "      <td>0.050026</td>\n",
       "      <td>0.049987</td>\n",
       "      <td>0.049969</td>\n",
       "      <td>0.118021</td>\n",
       "      <td>0.108908</td>\n",
       "      <td>0.100018</td>\n",
       "      <td>0.099989</td>\n",
       "    </tr>\n",
       "    <tr>\n",
       "      <th>2</th>\n",
       "      <td>0.163410</td>\n",
       "      <td>0.090013</td>\n",
       "      <td>0.129950</td>\n",
       "      <td>0.090199</td>\n",
       "      <td>0.089968</td>\n",
       "      <td>0.090013</td>\n",
       "      <td>0.166598</td>\n",
       "      <td>0.130574</td>\n",
       "      <td>0.090045</td>\n",
       "      <td>0.089981</td>\n",
       "    </tr>\n",
       "    <tr>\n",
       "      <th>3</th>\n",
       "      <td>0.119317</td>\n",
       "      <td>0.120001</td>\n",
       "      <td>0.119582</td>\n",
       "      <td>0.120006</td>\n",
       "      <td>0.120001</td>\n",
       "      <td>0.119999</td>\n",
       "      <td>0.119263</td>\n",
       "      <td>0.119539</td>\n",
       "      <td>0.120002</td>\n",
       "      <td>0.120002</td>\n",
       "    </tr>\n",
       "  </tbody>\n",
       "</table>\n",
       "</div>"
      ],
      "text/plain": [
       "   sim-1-m.csv  sim-10-m.csv  sim-2-m.csv  sim-3-m.csv  sim-4-m.csv  \\\n",
       "0     0.300000      0.100043     0.300000     0.299506     0.200063   \n",
       "1     0.060383      0.099964     0.055187     0.050026     0.049987   \n",
       "2     0.163410      0.090013     0.129950     0.090199     0.089968   \n",
       "3     0.119317      0.120001     0.119582     0.120006     0.120001   \n",
       "\n",
       "   sim-5-m.csv  sim-6-m.csv  sim-7-m.csv  sim-8-m.csv  sim-9-m.csv  \n",
       "0     0.100062     0.300000     0.300000     0.299867     0.200032  \n",
       "1     0.049969     0.118021     0.108908     0.100018     0.099989  \n",
       "2     0.090013     0.166598     0.130574     0.090045     0.089981  \n",
       "3     0.119999     0.119263     0.119539     0.120002     0.120002  "
      ]
     },
     "execution_count": 257,
     "metadata": {},
     "output_type": "execute_result"
    }
   ],
   "source": [
    "os.chdir('c:\\\\Users\\\\chloe\\\\Desktop\\\\ChloeYou\\\\UBC_grad\\\\Term3\\\\MATH561\\\\math561-gp-SuEIR\\\\data\\\\matlab')\n",
    "\n",
    "csv = os.listdir(os.getcwd())\n",
    "del csv[0] # this is the ground truth so we will only calculate the R_0 from it\n",
    "print(csv)\n",
    "params_nn = pd.DataFrame([])\n",
    "for file in csv :\n",
    "    df = pd.read_csv(file)\n",
    "    params_nn[file] = optim(df)\n",
    "    \n",
    "params_nn # rows: beta, mu, sigma, gamma"
   ]
  },
  {
   "cell_type": "markdown",
   "metadata": {},
   "source": [
    "Calculate R_0 for each simulation:\n",
    "$$\n",
    "R_0 = \\frac{\\beta}{\\sigma} +\\frac{\\beta\\mu}{\\gamma}\n",
    "$$"
   ]
  },
  {
   "cell_type": "code",
   "execution_count": 258,
   "metadata": {},
   "outputs": [
    {
     "data": {
      "text/plain": [
       "sim-1-p.csv      0.001222\n",
       "sim-10-p.csv     1.912777\n",
       "sim-2-p.csv     29.474735\n",
       "sim-3-p.csv      1.588375\n",
       "sim-4-p.csv      2.123876\n",
       "sim-5-p.csv      1.482987\n",
       "sim-6-p.csv      1.904558\n",
       "sim-7-p.csv      1.822815\n",
       "sim-8-p.csv      1.605260\n",
       "sim-9-p.csv      1.992881\n",
       "dtype: float64"
      ]
     },
     "execution_count": 258,
     "metadata": {},
     "output_type": "execute_result"
    }
   ],
   "source": [
    "R_0_trad = (params_trad.loc[0,]/params_trad.loc[2,]) + (params_trad.loc[0,]*params_trad.loc[1,]/params_trad.loc[3,])\n",
    "R_0_trad\n"
   ]
  },
  {
   "cell_type": "code",
   "execution_count": 259,
   "metadata": {},
   "outputs": [
    {
     "data": {
      "text/plain": [
       "sim-1-m.csv     1.987690\n",
       "sim-10-m.csv    1.194771\n",
       "sim-2-m.csv     2.447027\n",
       "sim-3-m.csv     3.445355\n",
       "sim-4-m.csv     2.307048\n",
       "sim-5-m.csv     1.153310\n",
       "sim-6-m.csv     2.097619\n",
       "sim-7-m.csv     2.570869\n",
       "sim-8-m.csv     3.580129\n",
       "sim-9-m.csv     2.389719\n",
       "dtype: float64"
      ]
     },
     "execution_count": 259,
     "metadata": {},
     "output_type": "execute_result"
    }
   ],
   "source": [
    "R_0_nn = (params_nn.loc[0,]/params_nn.loc[2,]) + (params_nn.loc[0,]*params_nn.loc[1,]/params_nn.loc[3,])\n",
    "R_0_nn"
   ]
  },
  {
   "cell_type": "markdown",
   "metadata": {},
   "source": [
    "Let's compare these estimated values to the 'true' $R_0 = \\frac{0.1}{0.09} +\\frac{0.1*0.1}{0.12} = 1.19$ \n",
    "\n",
    "Also, since the objective function is non-convex, the initial parameter used for optimization\n",
    "varies the estimate a lot. \n",
    "\n",
    "We look at the sum of the absolute value of bias:"
   ]
  },
  {
   "cell_type": "code",
   "execution_count": 260,
   "metadata": {},
   "outputs": [
    {
     "data": {
      "text/plain": [
       "34.38704136850016"
      ]
     },
     "execution_count": 260,
     "metadata": {},
     "output_type": "execute_result"
    }
   ],
   "source": [
    "sum(abs(R_0_trad - 1.19))"
   ]
  },
  {
   "cell_type": "code",
   "execution_count": 261,
   "metadata": {},
   "outputs": [
    {
     "data": {
      "text/plain": [
       "11.346918069655649"
      ]
     },
     "execution_count": 261,
     "metadata": {},
     "output_type": "execute_result"
    }
   ],
   "source": [
    "\n",
    "sum(abs(R_0_nn - 1.19)) "
   ]
  },
  {
   "cell_type": "markdown",
   "metadata": {},
   "source": [
    "#### Testing different optimization algorithms and initial parameter estimates "
   ]
  },
  {
   "cell_type": "code",
   "execution_count": 262,
   "metadata": {},
   "outputs": [],
   "source": [
    "os.chdir('c:\\\\Users\\\\chloe\\\\Desktop\\\\ChloeYou\\\\UBC_grad\\\\Term3\\\\MATH561\\\\math561-gp-SuEIR\\\\data\\\\python')\n",
    "\n",
    "# params_trad = pd.DataFrame([])\n",
    "# for file in os.listdir(os.getcwd()) :\n",
    "#     df = pd.read_csv(file)\n",
    "#     params_trad[file] = optim(df, method='BFGS', init=[0.1,0.1,0.1,0.1])\n",
    "    \n",
    "# params_trad # rows: beta, mu, sigma, gamma\n",
    "\n",
    "# R_0_trad = (params_trad.loc[0,]/params_trad.loc[2,]) + (params_trad.loc[0,]*params_trad.loc[1,]/params_trad.loc[3,])\n",
    "# R_0_trad\n",
    "\n",
    "# sum(abs(R_0_trad - 1.19)) # 326.1673000557157"
   ]
  },
  {
   "cell_type": "code",
   "execution_count": 263,
   "metadata": {},
   "outputs": [],
   "source": [
    "# params_trad = pd.DataFrame([])\n",
    "# for file in os.listdir(os.getcwd()) :\n",
    "#     df = pd.read_csv(file)\n",
    "#     params_trad[file] = optim(df, method='CG', init=[0.1,0.1,0.1,0.1]) \n",
    "    \n",
    "# params_trad # rows: beta, mu, sigma, gamma\n",
    "\n",
    "# R_0_trad = (params_trad.loc[0,]/params_trad.loc[2,]) + (params_trad.loc[0,]*params_trad.loc[1,]/params_trad.loc[3,])\n",
    "# R_0_trad\n",
    "\n",
    "# sum(abs(R_0_trad - 1.19)) # 1032.5439092183417"
   ]
  },
  {
   "cell_type": "code",
   "execution_count": 264,
   "metadata": {},
   "outputs": [
    {
     "data": {
      "text/plain": [
       "15.133294217610082"
      ]
     },
     "execution_count": 264,
     "metadata": {},
     "output_type": "execute_result"
    }
   ],
   "source": [
    "params_trad = pd.DataFrame([])\n",
    "for file in os.listdir(os.getcwd()) :\n",
    "    df = pd.read_csv(file)\n",
    "    params_trad[file] = optim(df, method='Powell', init=[0.05,0.05,0.05,0.05])\n",
    "    \n",
    "params_trad # rows: beta, mu, sigma, gamma\n",
    "\n",
    "R_0_trad = (params_trad.loc[0,]/params_trad.loc[2,]) + (params_trad.loc[0,]*params_trad.loc[1,]/params_trad.loc[3,])\n",
    "R_0_trad\n",
    "\n",
    "sum(abs(R_0_trad - 1.19))"
   ]
  },
  {
   "cell_type": "code",
   "execution_count": 265,
   "metadata": {},
   "outputs": [
    {
     "data": {
      "text/plain": [
       "107.04476795732802"
      ]
     },
     "execution_count": 265,
     "metadata": {},
     "output_type": "execute_result"
    }
   ],
   "source": [
    "params_trad = pd.DataFrame([])\n",
    "for file in os.listdir(os.getcwd()) :\n",
    "    df = pd.read_csv(file)\n",
    "    params_trad[file] = optim(df, method='Powell', init=[0.3,0.5,0.5,0.3])\n",
    "    \n",
    "params_trad # rows: beta, mu, sigma, gamma\n",
    "\n",
    "R_0_trad = (params_trad.loc[0,]/params_trad.loc[2,]) + (params_trad.loc[0,]*params_trad.loc[1,]/params_trad.loc[3,])\n",
    "R_0_trad\n",
    "\n",
    "sum(abs(R_0_trad - 1.19))"
   ]
  },
  {
   "cell_type": "code",
   "execution_count": null,
   "metadata": {},
   "outputs": [],
   "source": [
    "params_trad = pd.DataFrame([])\n",
    "for file in os.listdir(os.getcwd()) :\n",
    "    df = pd.read_csv(file)\n",
    "    params_trad[file] = optim(df, method='Powell', init=[0.15,0.5,0.5,0.15])\n",
    "    \n",
    "params_trad # rows: beta, mu, sigma, gamma\n",
    "\n",
    "R_0_trad = (params_trad.loc[0,]/params_trad.loc[2,]) + (params_trad.loc[0,]*params_trad.loc[1,]/params_trad.loc[3,])\n",
    "R_0_trad\n",
    "\n",
    "sum(abs(R_0_trad - 1.19))"
   ]
  },
  {
   "cell_type": "code",
   "execution_count": 266,
   "metadata": {},
   "outputs": [
    {
     "data": {
      "text/plain": [
       "146.59785552045662"
      ]
     },
     "execution_count": 266,
     "metadata": {},
     "output_type": "execute_result"
    }
   ],
   "source": [
    "params_trad = pd.DataFrame([])\n",
    "for file in os.listdir(os.getcwd()) :\n",
    "    df = pd.read_csv(file)\n",
    "    params_trad[file] = optim(df, method='Nelder-Mead', init=[0.05,0.05,0.05,0.05])\n",
    "    \n",
    "params_trad # rows: beta, mu, sigma, gamma\n",
    "\n",
    "R_0_trad = (params_trad.loc[0,]/params_trad.loc[2,]) + (params_trad.loc[0,]*params_trad.loc[1,]/params_trad.loc[3,])\n",
    "R_0_trad\n",
    "\n",
    "sum(abs(R_0_trad - 1.19))"
   ]
  },
  {
   "cell_type": "code",
   "execution_count": 267,
   "metadata": {},
   "outputs": [
    {
     "data": {
      "text/plain": [
       "168.5150620370362"
      ]
     },
     "execution_count": 267,
     "metadata": {},
     "output_type": "execute_result"
    }
   ],
   "source": [
    "params_trad = pd.DataFrame([])\n",
    "for file in os.listdir(os.getcwd()) :\n",
    "    df = pd.read_csv(file)\n",
    "    params_trad[file] = optim(df, method='Nelder-Mead', init=[0.3,0.5,0.5,0.3])\n",
    "    \n",
    "params_trad # rows: beta, mu, sigma, gamma\n",
    "\n",
    "R_0_trad = (params_trad.loc[0,]/params_trad.loc[2,]) + (params_trad.loc[0,]*params_trad.loc[1,]/params_trad.loc[3,])\n",
    "R_0_trad\n",
    "\n",
    "sum(abs(R_0_trad - 1.19))"
   ]
  },
  {
   "cell_type": "code",
   "execution_count": null,
   "metadata": {},
   "outputs": [],
   "source": [
    "params_trad = pd.DataFrame([])\n",
    "for file in os.listdir(os.getcwd()) :\n",
    "    df = pd.read_csv(file)\n",
    "    params_trad[file] = optim(df, method='Nelder-Mead', init=[0.15,0.5,0.5,0.15])\n",
    "    \n",
    "params_trad # rows: beta, mu, sigma, gamma\n",
    "\n",
    "R_0_trad = (params_trad.loc[0,]/params_trad.loc[2,]) + (params_trad.loc[0,]*params_trad.loc[1,]/params_trad.loc[3,])\n",
    "R_0_trad\n",
    "\n",
    "sum(abs(R_0_trad - 1.19))"
   ]
  },
  {
   "cell_type": "code",
   "execution_count": 268,
   "metadata": {},
   "outputs": [
    {
     "name": "stdout",
     "output_type": "stream",
     "text": [
      "['sim-1-m.csv', 'sim-10-m.csv', 'sim-2-m.csv', 'sim-3-m.csv', 'sim-4-m.csv', 'sim-5-m.csv', 'sim-6-m.csv', 'sim-7-m.csv', 'sim-8-m.csv', 'sim-9-m.csv']\n"
     ]
    },
    {
     "data": {
      "text/plain": [
       "11.629456041132238"
      ]
     },
     "execution_count": 268,
     "metadata": {},
     "output_type": "execute_result"
    }
   ],
   "source": [
    "os.chdir('c:\\\\Users\\\\chloe\\\\Desktop\\\\ChloeYou\\\\UBC_grad\\\\Term3\\\\MATH561\\\\math561-gp-SuEIR\\\\data\\\\matlab')\n",
    "\n",
    "csv = os.listdir(os.getcwd())\n",
    "del csv[0] # this is the ground truth so we will only calculate the R_0 from it\n",
    "print(csv)\n",
    "params_nn = pd.DataFrame([])\n",
    "for file in csv :\n",
    "    df = pd.read_csv(file)\n",
    "    params_nn[file] = optim(df,method='Powell', init=[0.05,0.05,0.05,0.05])\n",
    "    \n",
    "params_nn # rows: beta, mu, sigma, gamma\n",
    "\n",
    "R_0_nn = (params_nn.loc[0,]/params_nn.loc[2,]) + (params_nn.loc[0,]*params_nn.loc[1,]/params_nn.loc[3,])\n",
    "R_0_nn\n",
    "\n",
    "sum(abs(R_0_nn - 1.19)) "
   ]
  },
  {
   "cell_type": "code",
   "execution_count": 269,
   "metadata": {},
   "outputs": [
    {
     "data": {
      "text/plain": [
       "9.74589373983309"
      ]
     },
     "execution_count": 269,
     "metadata": {},
     "output_type": "execute_result"
    }
   ],
   "source": [
    "params_nn = pd.DataFrame([])\n",
    "for file in csv :\n",
    "    df = pd.read_csv(file)\n",
    "    params_nn[file] = optim(df,method='Powell', init=[0.3,0.5,0.5,0.3])\n",
    "    \n",
    "params_nn # rows: beta, mu, sigma, gamma\n",
    "\n",
    "R_0_nn = (params_nn.loc[0,]/params_nn.loc[2,]) + (params_nn.loc[0,]*params_nn.loc[1,]/params_nn.loc[3,])\n",
    "R_0_nn\n",
    "\n",
    "sum(abs(R_0_nn - 1.19)) "
   ]
  },
  {
   "cell_type": "code",
   "execution_count": null,
   "metadata": {},
   "outputs": [],
   "source": [
    "params_nn = pd.DataFrame([])\n",
    "for file in csv :\n",
    "    df = pd.read_csv(file)\n",
    "    params_nn[file] = optim(df,method='Powell', init=[0.15,0.5,0.5,0.15])\n",
    "    \n",
    "params_nn # rows: beta, mu, sigma, gamma\n",
    "\n",
    "R_0_nn = (params_nn.loc[0,]/params_nn.loc[2,]) + (params_nn.loc[0,]*params_nn.loc[1,]/params_nn.loc[3,])\n",
    "R_0_nn\n",
    "\n",
    "sum(abs(R_0_nn - 1.19)) "
   ]
  },
  {
   "cell_type": "code",
   "execution_count": 270,
   "metadata": {},
   "outputs": [
    {
     "data": {
      "text/plain": [
       "11.662736520197909"
      ]
     },
     "execution_count": 270,
     "metadata": {},
     "output_type": "execute_result"
    }
   ],
   "source": [
    "params_nn = pd.DataFrame([])\n",
    "for file in csv :\n",
    "    df = pd.read_csv(file)\n",
    "    params_nn[file] = optim(df,method='Nelder-Mead', init=[0.05,0.05,0.05,0.05])\n",
    "    \n",
    "params_nn # rows: beta, mu, sigma, gamma\n",
    "\n",
    "R_0_nn = (params_nn.loc[0,]/params_nn.loc[2,]) + (params_nn.loc[0,]*params_nn.loc[1,]/params_nn.loc[3,])\n",
    "R_0_nn\n",
    "\n",
    "sum(abs(R_0_nn - 1.19)) "
   ]
  },
  {
   "cell_type": "code",
   "execution_count": 271,
   "metadata": {},
   "outputs": [
    {
     "data": {
      "text/plain": [
       "44.38654913936948"
      ]
     },
     "execution_count": 271,
     "metadata": {},
     "output_type": "execute_result"
    }
   ],
   "source": [
    "params_nn = pd.DataFrame([])\n",
    "for file in csv :\n",
    "    df = pd.read_csv(file)\n",
    "    params_nn[file] = optim(df,method='Nelder-Mead', init=[0.3,0.5,0.5,0.3])\n",
    "    \n",
    "params_nn # rows: beta, mu, sigma, gamma\n",
    "\n",
    "R_0_nn = (params_nn.loc[0,]/params_nn.loc[2,]) + (params_nn.loc[0,]*params_nn.loc[1,]/params_nn.loc[3,])\n",
    "R_0_nn\n",
    "\n",
    "sum(abs(R_0_nn - 1.19)) "
   ]
  },
  {
   "cell_type": "code",
   "execution_count": null,
   "metadata": {},
   "outputs": [],
   "source": [
    "params_nn = pd.DataFrame([])\n",
    "for file in csv :\n",
    "    df = pd.read_csv(file)\n",
    "    params_nn[file] = optim(df,method='Nelder-Mead', init=[0.15,0.5,0.5,0.15])\n",
    "    \n",
    "params_nn # rows: beta, mu, sigma, gamma\n",
    "\n",
    "R_0_nn = (params_nn.loc[0,]/params_nn.loc[2,]) + (params_nn.loc[0,]*params_nn.loc[1,]/params_nn.loc[3,])\n",
    "R_0_nn\n",
    "\n",
    "sum(abs(R_0_nn - 1.19)) "
   ]
  }
 ],
 "metadata": {
  "kernelspec": {
   "display_name": "Python 3.10.8 64-bit (microsoft store)",
   "language": "python",
   "name": "python3"
  },
  "language_info": {
   "codemirror_mode": {
    "name": "ipython",
    "version": 3
   },
   "file_extension": ".py",
   "mimetype": "text/x-python",
   "name": "python",
   "nbconvert_exporter": "python",
   "pygments_lexer": "ipython3",
   "version": "3.10.8"
  },
  "orig_nbformat": 4,
  "vscode": {
   "interpreter": {
    "hash": "e2d4454e754156b895c5e06d3d0984fa0fadbfd41cd61912f0f1789ecf87b4c7"
   }
  }
 },
 "nbformat": 4,
 "nbformat_minor": 2
}
