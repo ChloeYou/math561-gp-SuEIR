{
  "nbformat": 4,
  "nbformat_minor": 0,
  "metadata": {
    "colab": {
      "provenance": [],
      "toc_visible": true
    },
    "kernelspec": {
      "name": "python3",
      "display_name": "Python 3"
    },
    "language_info": {
      "name": "python"
    },
    "widgets": {
      "application/vnd.jupyter.widget-state+json": {
        "cc51874a803a42929c47bf4fc2e4c1c9": {
          "model_module": "@jupyter-widgets/controls",
          "model_name": "HBoxModel",
          "model_module_version": "1.5.0",
          "state": {
            "_dom_classes": [],
            "_model_module": "@jupyter-widgets/controls",
            "_model_module_version": "1.5.0",
            "_model_name": "HBoxModel",
            "_view_count": null,
            "_view_module": "@jupyter-widgets/controls",
            "_view_module_version": "1.5.0",
            "_view_name": "HBoxView",
            "box_style": "",
            "children": [
              "IPY_MODEL_20d7e318436e4148bef024648382f056",
              "IPY_MODEL_9e7844ce77ef4235a907158d20c82442",
              "IPY_MODEL_ab4f21281b9f427da8759c3a62cbecd9"
            ],
            "layout": "IPY_MODEL_52df45e4df0e43298fca3275bf6b1a9a"
          }
        },
        "20d7e318436e4148bef024648382f056": {
          "model_module": "@jupyter-widgets/controls",
          "model_name": "HTMLModel",
          "model_module_version": "1.5.0",
          "state": {
            "_dom_classes": [],
            "_model_module": "@jupyter-widgets/controls",
            "_model_module_version": "1.5.0",
            "_model_name": "HTMLModel",
            "_view_count": null,
            "_view_module": "@jupyter-widgets/controls",
            "_view_module_version": "1.5.0",
            "_view_name": "HTMLView",
            "description": "",
            "description_tooltip": null,
            "layout": "IPY_MODEL_70f24ca60f604e55bcfd91245e54ce6f",
            "placeholder": "​",
            "style": "IPY_MODEL_793a2a0e366f4f5e9618d522545b72a8",
            "value": "Training Progress: 100%"
          }
        },
        "9e7844ce77ef4235a907158d20c82442": {
          "model_module": "@jupyter-widgets/controls",
          "model_name": "FloatProgressModel",
          "model_module_version": "1.5.0",
          "state": {
            "_dom_classes": [],
            "_model_module": "@jupyter-widgets/controls",
            "_model_module_version": "1.5.0",
            "_model_name": "FloatProgressModel",
            "_view_count": null,
            "_view_module": "@jupyter-widgets/controls",
            "_view_module_version": "1.5.0",
            "_view_name": "ProgressView",
            "bar_style": "success",
            "description": "",
            "description_tooltip": null,
            "layout": "IPY_MODEL_218c23b441804b4ea37889a1abe89e02",
            "max": 750,
            "min": 0,
            "orientation": "horizontal",
            "style": "IPY_MODEL_cee04e34b33244458d96d50ba243b72a",
            "value": 750
          }
        },
        "ab4f21281b9f427da8759c3a62cbecd9": {
          "model_module": "@jupyter-widgets/controls",
          "model_name": "HTMLModel",
          "model_module_version": "1.5.0",
          "state": {
            "_dom_classes": [],
            "_model_module": "@jupyter-widgets/controls",
            "_model_module_version": "1.5.0",
            "_model_name": "HTMLModel",
            "_view_count": null,
            "_view_module": "@jupyter-widgets/controls",
            "_view_module_version": "1.5.0",
            "_view_name": "HTMLView",
            "description": "",
            "description_tooltip": null,
            "layout": "IPY_MODEL_4b3d7cf1aaf048a5af81c4c79d77d780",
            "placeholder": "​",
            "style": "IPY_MODEL_820e2c23958c450fa179b69390852f50",
            "value": " 750/750 [01:59&lt;00:00,  4.05it/s]"
          }
        },
        "52df45e4df0e43298fca3275bf6b1a9a": {
          "model_module": "@jupyter-widgets/base",
          "model_name": "LayoutModel",
          "model_module_version": "1.2.0",
          "state": {
            "_model_module": "@jupyter-widgets/base",
            "_model_module_version": "1.2.0",
            "_model_name": "LayoutModel",
            "_view_count": null,
            "_view_module": "@jupyter-widgets/base",
            "_view_module_version": "1.2.0",
            "_view_name": "LayoutView",
            "align_content": null,
            "align_items": null,
            "align_self": null,
            "border": null,
            "bottom": null,
            "display": "inline-flex",
            "flex": null,
            "flex_flow": "row wrap",
            "grid_area": null,
            "grid_auto_columns": null,
            "grid_auto_flow": null,
            "grid_auto_rows": null,
            "grid_column": null,
            "grid_gap": null,
            "grid_row": null,
            "grid_template_areas": null,
            "grid_template_columns": null,
            "grid_template_rows": null,
            "height": null,
            "justify_content": null,
            "justify_items": null,
            "left": null,
            "margin": null,
            "max_height": null,
            "max_width": null,
            "min_height": null,
            "min_width": null,
            "object_fit": null,
            "object_position": null,
            "order": null,
            "overflow": null,
            "overflow_x": null,
            "overflow_y": null,
            "padding": null,
            "right": null,
            "top": null,
            "visibility": null,
            "width": "100%"
          }
        },
        "70f24ca60f604e55bcfd91245e54ce6f": {
          "model_module": "@jupyter-widgets/base",
          "model_name": "LayoutModel",
          "model_module_version": "1.2.0",
          "state": {
            "_model_module": "@jupyter-widgets/base",
            "_model_module_version": "1.2.0",
            "_model_name": "LayoutModel",
            "_view_count": null,
            "_view_module": "@jupyter-widgets/base",
            "_view_module_version": "1.2.0",
            "_view_name": "LayoutView",
            "align_content": null,
            "align_items": null,
            "align_self": null,
            "border": null,
            "bottom": null,
            "display": null,
            "flex": null,
            "flex_flow": null,
            "grid_area": null,
            "grid_auto_columns": null,
            "grid_auto_flow": null,
            "grid_auto_rows": null,
            "grid_column": null,
            "grid_gap": null,
            "grid_row": null,
            "grid_template_areas": null,
            "grid_template_columns": null,
            "grid_template_rows": null,
            "height": null,
            "justify_content": null,
            "justify_items": null,
            "left": null,
            "margin": null,
            "max_height": null,
            "max_width": null,
            "min_height": null,
            "min_width": null,
            "object_fit": null,
            "object_position": null,
            "order": null,
            "overflow": null,
            "overflow_x": null,
            "overflow_y": null,
            "padding": null,
            "right": null,
            "top": null,
            "visibility": null,
            "width": null
          }
        },
        "793a2a0e366f4f5e9618d522545b72a8": {
          "model_module": "@jupyter-widgets/controls",
          "model_name": "DescriptionStyleModel",
          "model_module_version": "1.5.0",
          "state": {
            "_model_module": "@jupyter-widgets/controls",
            "_model_module_version": "1.5.0",
            "_model_name": "DescriptionStyleModel",
            "_view_count": null,
            "_view_module": "@jupyter-widgets/base",
            "_view_module_version": "1.2.0",
            "_view_name": "StyleView",
            "description_width": ""
          }
        },
        "218c23b441804b4ea37889a1abe89e02": {
          "model_module": "@jupyter-widgets/base",
          "model_name": "LayoutModel",
          "model_module_version": "1.2.0",
          "state": {
            "_model_module": "@jupyter-widgets/base",
            "_model_module_version": "1.2.0",
            "_model_name": "LayoutModel",
            "_view_count": null,
            "_view_module": "@jupyter-widgets/base",
            "_view_module_version": "1.2.0",
            "_view_name": "LayoutView",
            "align_content": null,
            "align_items": null,
            "align_self": null,
            "border": null,
            "bottom": null,
            "display": null,
            "flex": "2",
            "flex_flow": null,
            "grid_area": null,
            "grid_auto_columns": null,
            "grid_auto_flow": null,
            "grid_auto_rows": null,
            "grid_column": null,
            "grid_gap": null,
            "grid_row": null,
            "grid_template_areas": null,
            "grid_template_columns": null,
            "grid_template_rows": null,
            "height": null,
            "justify_content": null,
            "justify_items": null,
            "left": null,
            "margin": null,
            "max_height": null,
            "max_width": null,
            "min_height": null,
            "min_width": null,
            "object_fit": null,
            "object_position": null,
            "order": null,
            "overflow": null,
            "overflow_x": null,
            "overflow_y": null,
            "padding": null,
            "right": null,
            "top": null,
            "visibility": null,
            "width": null
          }
        },
        "cee04e34b33244458d96d50ba243b72a": {
          "model_module": "@jupyter-widgets/controls",
          "model_name": "ProgressStyleModel",
          "model_module_version": "1.5.0",
          "state": {
            "_model_module": "@jupyter-widgets/controls",
            "_model_module_version": "1.5.0",
            "_model_name": "ProgressStyleModel",
            "_view_count": null,
            "_view_module": "@jupyter-widgets/base",
            "_view_module_version": "1.2.0",
            "_view_name": "StyleView",
            "bar_color": "blue",
            "description_width": ""
          }
        },
        "4b3d7cf1aaf048a5af81c4c79d77d780": {
          "model_module": "@jupyter-widgets/base",
          "model_name": "LayoutModel",
          "model_module_version": "1.2.0",
          "state": {
            "_model_module": "@jupyter-widgets/base",
            "_model_module_version": "1.2.0",
            "_model_name": "LayoutModel",
            "_view_count": null,
            "_view_module": "@jupyter-widgets/base",
            "_view_module_version": "1.2.0",
            "_view_name": "LayoutView",
            "align_content": null,
            "align_items": null,
            "align_self": null,
            "border": null,
            "bottom": null,
            "display": null,
            "flex": null,
            "flex_flow": null,
            "grid_area": null,
            "grid_auto_columns": null,
            "grid_auto_flow": null,
            "grid_auto_rows": null,
            "grid_column": null,
            "grid_gap": null,
            "grid_row": null,
            "grid_template_areas": null,
            "grid_template_columns": null,
            "grid_template_rows": null,
            "height": null,
            "justify_content": null,
            "justify_items": null,
            "left": null,
            "margin": null,
            "max_height": null,
            "max_width": null,
            "min_height": null,
            "min_width": null,
            "object_fit": null,
            "object_position": null,
            "order": null,
            "overflow": null,
            "overflow_x": null,
            "overflow_y": null,
            "padding": null,
            "right": null,
            "top": null,
            "visibility": null,
            "width": null
          }
        },
        "820e2c23958c450fa179b69390852f50": {
          "model_module": "@jupyter-widgets/controls",
          "model_name": "DescriptionStyleModel",
          "model_module_version": "1.5.0",
          "state": {
            "_model_module": "@jupyter-widgets/controls",
            "_model_module_version": "1.5.0",
            "_model_name": "DescriptionStyleModel",
            "_view_count": null,
            "_view_module": "@jupyter-widgets/base",
            "_view_module_version": "1.2.0",
            "_view_name": "StyleView",
            "description_width": ""
          }
        }
      }
    },
    "gpuClass": "premium",
    "accelerator": "GPU"
  },
  "cells": [
    {
      "cell_type": "markdown",
      "source": [
        "## Installs"
      ],
      "metadata": {
        "id": "qcsq5Q_affjm"
      }
    },
    {
      "cell_type": "code",
      "execution_count": 1,
      "metadata": {
        "colab": {
          "base_uri": "https://localhost:8080/"
        },
        "id": "WtTHbZKPi4VL",
        "outputId": "662d9719-ac2a-4dfe-f5bb-d2c46f56cf60"
      },
      "outputs": [
        {
          "output_type": "stream",
          "name": "stdout",
          "text": [
            "Looking in indexes: https://pypi.org/simple, https://us-python.pkg.dev/colab-wheels/public/simple/\n",
            "Requirement already satisfied: neurodiffeq in /usr/local/lib/python3.7/dist-packages (0.6.0)\n",
            "Requirement already satisfied: torch in /usr/local/lib/python3.7/dist-packages (from neurodiffeq) (1.12.1+cu113)\n",
            "Requirement already satisfied: seaborn in /usr/local/lib/python3.7/dist-packages (from neurodiffeq) (0.11.2)\n",
            "Requirement already satisfied: wheel in /usr/local/lib/python3.7/dist-packages (from neurodiffeq) (0.38.4)\n",
            "Requirement already satisfied: pandas in /usr/local/lib/python3.7/dist-packages (from neurodiffeq) (1.3.5)\n",
            "Requirement already satisfied: scipy in /usr/local/lib/python3.7/dist-packages (from neurodiffeq) (1.7.3)\n",
            "Requirement already satisfied: pytest in /usr/local/lib/python3.7/dist-packages (from neurodiffeq) (3.6.4)\n",
            "Requirement already satisfied: packaging in /usr/local/lib/python3.7/dist-packages (from neurodiffeq) (21.3)\n",
            "Requirement already satisfied: tensorboard in /usr/local/lib/python3.7/dist-packages (from neurodiffeq) (2.9.1)\n",
            "Requirement already satisfied: numpy in /usr/local/lib/python3.7/dist-packages (from neurodiffeq) (1.21.6)\n",
            "Requirement already satisfied: matplotlib in /usr/local/lib/python3.7/dist-packages (from neurodiffeq) (3.2.2)\n",
            "Requirement already satisfied: dill in /usr/local/lib/python3.7/dist-packages (from neurodiffeq) (0.3.6)\n",
            "Requirement already satisfied: requests in /usr/local/lib/python3.7/dist-packages (from neurodiffeq) (2.23.0)\n",
            "Requirement already satisfied: tqdm in /usr/local/lib/python3.7/dist-packages (from neurodiffeq) (4.64.1)\n",
            "Requirement already satisfied: cycler>=0.10 in /usr/local/lib/python3.7/dist-packages (from matplotlib->neurodiffeq) (0.11.0)\n",
            "Requirement already satisfied: python-dateutil>=2.1 in /usr/local/lib/python3.7/dist-packages (from matplotlib->neurodiffeq) (2.8.2)\n",
            "Requirement already satisfied: kiwisolver>=1.0.1 in /usr/local/lib/python3.7/dist-packages (from matplotlib->neurodiffeq) (1.4.4)\n",
            "Requirement already satisfied: pyparsing!=2.0.4,!=2.1.2,!=2.1.6,>=2.0.1 in /usr/local/lib/python3.7/dist-packages (from matplotlib->neurodiffeq) (3.0.9)\n",
            "Requirement already satisfied: typing-extensions in /usr/local/lib/python3.7/dist-packages (from kiwisolver>=1.0.1->matplotlib->neurodiffeq) (4.1.1)\n",
            "Requirement already satisfied: six>=1.5 in /usr/local/lib/python3.7/dist-packages (from python-dateutil>=2.1->matplotlib->neurodiffeq) (1.15.0)\n",
            "Requirement already satisfied: pytz>=2017.3 in /usr/local/lib/python3.7/dist-packages (from pandas->neurodiffeq) (2022.6)\n",
            "Requirement already satisfied: pluggy<0.8,>=0.5 in /usr/local/lib/python3.7/dist-packages (from pytest->neurodiffeq) (0.7.1)\n",
            "Requirement already satisfied: more-itertools>=4.0.0 in /usr/local/lib/python3.7/dist-packages (from pytest->neurodiffeq) (9.0.0)\n",
            "Requirement already satisfied: py>=1.5.0 in /usr/local/lib/python3.7/dist-packages (from pytest->neurodiffeq) (1.11.0)\n",
            "Requirement already satisfied: atomicwrites>=1.0 in /usr/local/lib/python3.7/dist-packages (from pytest->neurodiffeq) (1.4.1)\n",
            "Requirement already satisfied: attrs>=17.4.0 in /usr/local/lib/python3.7/dist-packages (from pytest->neurodiffeq) (22.1.0)\n",
            "Requirement already satisfied: setuptools in /usr/local/lib/python3.7/dist-packages (from pytest->neurodiffeq) (57.4.0)\n",
            "Requirement already satisfied: chardet<4,>=3.0.2 in /usr/local/lib/python3.7/dist-packages (from requests->neurodiffeq) (3.0.4)\n",
            "Requirement already satisfied: urllib3!=1.25.0,!=1.25.1,<1.26,>=1.21.1 in /usr/local/lib/python3.7/dist-packages (from requests->neurodiffeq) (1.24.3)\n",
            "Requirement already satisfied: idna<3,>=2.5 in /usr/local/lib/python3.7/dist-packages (from requests->neurodiffeq) (2.10)\n",
            "Requirement already satisfied: certifi>=2017.4.17 in /usr/local/lib/python3.7/dist-packages (from requests->neurodiffeq) (2022.9.24)\n",
            "Requirement already satisfied: grpcio>=1.24.3 in /usr/local/lib/python3.7/dist-packages (from tensorboard->neurodiffeq) (1.50.0)\n",
            "Requirement already satisfied: werkzeug>=1.0.1 in /usr/local/lib/python3.7/dist-packages (from tensorboard->neurodiffeq) (1.0.1)\n",
            "Requirement already satisfied: markdown>=2.6.8 in /usr/local/lib/python3.7/dist-packages (from tensorboard->neurodiffeq) (3.4.1)\n",
            "Requirement already satisfied: tensorboard-plugin-wit>=1.6.0 in /usr/local/lib/python3.7/dist-packages (from tensorboard->neurodiffeq) (1.8.1)\n",
            "Requirement already satisfied: absl-py>=0.4 in /usr/local/lib/python3.7/dist-packages (from tensorboard->neurodiffeq) (1.3.0)\n",
            "Requirement already satisfied: google-auth<3,>=1.6.3 in /usr/local/lib/python3.7/dist-packages (from tensorboard->neurodiffeq) (2.14.1)\n",
            "Requirement already satisfied: protobuf<3.20,>=3.9.2 in /usr/local/lib/python3.7/dist-packages (from tensorboard->neurodiffeq) (3.19.6)\n",
            "Requirement already satisfied: google-auth-oauthlib<0.5,>=0.4.1 in /usr/local/lib/python3.7/dist-packages (from tensorboard->neurodiffeq) (0.4.6)\n",
            "Requirement already satisfied: tensorboard-data-server<0.7.0,>=0.6.0 in /usr/local/lib/python3.7/dist-packages (from tensorboard->neurodiffeq) (0.6.1)\n",
            "Requirement already satisfied: rsa<5,>=3.1.4 in /usr/local/lib/python3.7/dist-packages (from google-auth<3,>=1.6.3->tensorboard->neurodiffeq) (4.9)\n",
            "Requirement already satisfied: cachetools<6.0,>=2.0.0 in /usr/local/lib/python3.7/dist-packages (from google-auth<3,>=1.6.3->tensorboard->neurodiffeq) (5.2.0)\n",
            "Requirement already satisfied: pyasn1-modules>=0.2.1 in /usr/local/lib/python3.7/dist-packages (from google-auth<3,>=1.6.3->tensorboard->neurodiffeq) (0.2.8)\n",
            "Requirement already satisfied: requests-oauthlib>=0.7.0 in /usr/local/lib/python3.7/dist-packages (from google-auth-oauthlib<0.5,>=0.4.1->tensorboard->neurodiffeq) (1.3.1)\n",
            "Requirement already satisfied: importlib-metadata>=4.4 in /usr/local/lib/python3.7/dist-packages (from markdown>=2.6.8->tensorboard->neurodiffeq) (4.13.0)\n",
            "Requirement already satisfied: zipp>=0.5 in /usr/local/lib/python3.7/dist-packages (from importlib-metadata>=4.4->markdown>=2.6.8->tensorboard->neurodiffeq) (3.10.0)\n",
            "Requirement already satisfied: pyasn1<0.5.0,>=0.4.6 in /usr/local/lib/python3.7/dist-packages (from pyasn1-modules>=0.2.1->google-auth<3,>=1.6.3->tensorboard->neurodiffeq) (0.4.8)\n",
            "Requirement already satisfied: oauthlib>=3.0.0 in /usr/local/lib/python3.7/dist-packages (from requests-oauthlib>=0.7.0->google-auth-oauthlib<0.5,>=0.4.1->tensorboard->neurodiffeq) (3.2.2)\n"
          ]
        }
      ],
      "source": [
        "# https://github.com/NeuroDiffGym/neurodiffeq\n",
        "\n",
        "!pip install -U neurodiffeq  # '-U' means update to latest version"
      ]
    },
    {
      "cell_type": "markdown",
      "source": [
        "## Mount Google Drive (if necessary)"
      ],
      "metadata": {
        "id": "85pDfKOofWUf"
      }
    },
    {
      "cell_type": "code",
      "source": [
        "# Mount Googe Drive\n",
        "import os\n",
        "from google.colab import drive\n",
        "drive.mount('/content/drive')\n",
        "os.chdir(\"drive/My Drive/\")"
      ],
      "metadata": {
        "colab": {
          "base_uri": "https://localhost:8080/"
        },
        "id": "1DPkTSVKfSVr",
        "outputId": "d693d428-95f5-4367-c9a9-19b4517c4e97"
      },
      "execution_count": 2,
      "outputs": [
        {
          "output_type": "stream",
          "name": "stdout",
          "text": [
            "Drive already mounted at /content/drive; to attempt to forcibly remount, call drive.mount(\"/content/drive\", force_remount=True).\n"
          ]
        }
      ]
    },
    {
      "cell_type": "markdown",
      "source": [
        "## Imports"
      ],
      "metadata": {
        "id": "h1SLvwCPtvyV"
      }
    },
    {
      "cell_type": "code",
      "source": [
        "from itertools import chain\n",
        "import numpy as np\n",
        "import pandas as pd\n",
        "import matplotlib.pyplot as plt\n",
        "\n",
        "from neurodiffeq import diff\n",
        "from neurodiffeq.solvers import Solver1D, BundleSolver1D\n",
        "from neurodiffeq.conditions import IVP, DirichletBVP2D\n",
        "from neurodiffeq.networks import FCNN, Resnet, SinActv, Swish\n",
        "from neurodiffeq import diff      # the differentiation operation\n",
        "from neurodiffeq.ode import solve # the ANN-based solver\n",
        "from neurodiffeq.conditions import IVP   # the initial condition\n",
        "from neurodiffeq.ode import solve_system\n",
        "from neurodiffeq.monitors import Monitor1D\n",
        "from neurodiffeq.generators import Generator1D\n",
        "\n",
        "import torch\n",
        "import torch.nn as nn\n",
        "import torch.nn.functional as F\n",
        "\n",
        "\n",
        "from torch.nn import MSELoss\n",
        "from torch.nn import L1Loss\n",
        "from torch.nn import KLDivLoss\n",
        "from torch.optim import AdamW"
      ],
      "metadata": {
        "id": "D9P6Njdvm2W5"
      },
      "execution_count": 3,
      "outputs": []
    },
    {
      "cell_type": "code",
      "source": [
        "# Check for GPU\n",
        "torch.cuda.get_device_name(0)"
      ],
      "metadata": {
        "colab": {
          "base_uri": "https://localhost:8080/",
          "height": 36
        },
        "id": "UdFYAdPTlFDv",
        "outputId": "c8126bac-ce7b-4d32-b3c3-e68617025434"
      },
      "execution_count": 4,
      "outputs": [
        {
          "output_type": "execute_result",
          "data": {
            "text/plain": [
              "'A100-SXM4-40GB'"
            ],
            "application/vnd.google.colaboratory.intrinsic+json": {
              "type": "string"
            }
          },
          "metadata": {},
          "execution_count": 4
        }
      ]
    },
    {
      "cell_type": "markdown",
      "source": [
        "## ODE Solver"
      ],
      "metadata": {
        "id": "q81m70OLtG00"
      }
    },
    {
      "cell_type": "code",
      "source": [
        "# Specify the ODE system and its parameters\n",
        "N, beta, mu, sigma, gamma = 1000.0, 0.1, 0.1, 0.09, 0.12 \n",
        "\n",
        "SEIR = lambda s, e, i, r, t : [ \n",
        "    diff(s, t) + ((beta * (e + i) * s) / N), \n",
        "    diff(e, t) - (((beta * (e + i) * s) / N) - sigma * e), \n",
        "    diff(i, t) - (mu * sigma * e - (gamma * i)), \n",
        "    diff(r, t) - (gamma * i),  ]\n",
        "\n",
        "\n",
        "# Specify the initial conditions\n",
        "init_vals_SEIR = [\n",
        "    IVP(t_0=0.0, u_0=800.0),  # S\n",
        "    IVP(t_0=0.0, u_0=100.0),  # E\n",
        "    IVP(t_0=0.0, u_0=50.0),   # I\n",
        "    IVP(t_0=0.0, u_0=50.0),   # R\n",
        "]\n",
        "\n",
        "train_gen = Generator1D(size=1000000,  t_min=0.0, t_max=60.0, method='uniform')\n",
        "valid_gen = Generator1D(size=200000, t_min=0.0, t_max=60.0, method='uniform')\n",
        "\n",
        "# Specify the network to be used to approximate each dependent variable\n",
        "nets_SEIR = [\n",
        "    Resnet(n_input_units=1, n_output_units=1,hidden_units=(16, 16, 16, 16), actv=nn.ELU),\n",
        "    Resnet(n_input_units=1, n_output_units=1,hidden_units=(16, 16, 16, 16), actv=nn.Mish),\n",
        "    Resnet(n_input_units=1, n_output_units=1,hidden_units=(16, 16, 16, 16), actv=nn.Tanh),\n",
        "    Resnet(n_input_units=1, n_output_units=1,hidden_units=(16, 16, 16, 16), actv=nn.ELU)\n",
        "]\n",
        "\n",
        "\n",
        "# Create a monitor first\n",
        "monitor = Monitor1D(t_min=0.0, t_max=60.0, check_every=100)\n",
        "\n",
        "# Turn the monitor into a Callback instance\n",
        "monitor_callback = monitor.to_callback()\n",
        "\n",
        "\n",
        "# Specify the optimizer\n",
        "\n",
        "opt = AdamW(\n",
        "    chain.from_iterable(n.parameters() for n in nets_SEIR)                                \n",
        ")\n",
        "\n",
        "\n",
        "# Instantiate a solver instance\n",
        "solver = BundleSolver1D(\n",
        "    ode_system=SEIR,\n",
        "    conditions=init_vals_SEIR,\n",
        "    t_min=0.0,\n",
        "    t_max=60.0,\n",
        "    nets=nets_SEIR,\n",
        "    optimizer=opt,\n",
        "    criterion=L1Loss(),\n",
        "    train_generator=train_gen, \n",
        "    valid_generator=valid_gen,\n",
        ")\n",
        "\n",
        "# Fit the solver (i.e., train the neural networks)\n",
        "solver.fit(max_epochs=750, callbacks=[monitor_callback])\n",
        "\n",
        "# Start timer and get the solution \n",
        "solution_SEIR = solver.get_solution()"
      ],
      "metadata": {
        "colab": {
          "base_uri": "https://localhost:8080/",
          "height": 587,
          "referenced_widgets": [
            "cc51874a803a42929c47bf4fc2e4c1c9",
            "20d7e318436e4148bef024648382f056",
            "9e7844ce77ef4235a907158d20c82442",
            "ab4f21281b9f427da8759c3a62cbecd9",
            "52df45e4df0e43298fca3275bf6b1a9a",
            "70f24ca60f604e55bcfd91245e54ce6f",
            "793a2a0e366f4f5e9618d522545b72a8",
            "218c23b441804b4ea37889a1abe89e02",
            "cee04e34b33244458d96d50ba243b72a",
            "4b3d7cf1aaf048a5af81c4c79d77d780",
            "820e2c23958c450fa179b69390852f50"
          ]
        },
        "id": "scuE4_IxHE7I",
        "outputId": "de15d882-6d21-4133-ad6e-dd10ec1fe23d"
      },
      "execution_count": 5,
      "outputs": [
        {
          "output_type": "stream",
          "name": "stderr",
          "text": [
            "/usr/local/lib/python3.7/dist-packages/neurodiffeq/monitors.py:48: UserWarning: You seem to be using jupyter notebook with '%matplotlib inline' which can lead to monitor plots not updating. Consider using '%matplotlib notebook' or '%matplotlib widget' instead.\n",
            "  UserWarning)\n"
          ]
        },
        {
          "output_type": "display_data",
          "data": {
            "text/plain": [
              "Training Progress:   0%|          | 0/750 [00:00<?, ?it/s]"
            ],
            "application/vnd.jupyter.widget-view+json": {
              "version_major": 2,
              "version_minor": 0,
              "model_id": "cc51874a803a42929c47bf4fc2e4c1c9"
            }
          },
          "metadata": {}
        },
        {
          "output_type": "display_data",
          "data": {
            "text/plain": [
              "<Figure size 2160x576 with 3 Axes>"
            ],
            "image/png": "[encoded data removed]"
          },
          "metadata": {
            "needs_background": "light"
          }
        }
      ]
    },
    {
      "cell_type": "markdown",
      "source": [
        "## Plot Data"
      ],
      "metadata": {
        "id": "f4acEV3hhB2f"
      }
    },
    {
      "cell_type": "code",
      "source": [
        "# Convert output into DataFrame\n",
        "ts = np.linspace(0, 60, 60)\n",
        "S, E, I, R = solution_SEIR(ts, to_numpy=True)\n",
        "output = pd.DataFrame({'S': S, 'E': list(E), 'I': list(I), 'R': list(R)}, columns=['S', 'E', 'I', 'R'])\n",
        "\n",
        "# Plot output\n",
        "print(output)\n",
        "output.plot()"
      ],
      "metadata": {
        "id": "OcS2OswEHUvW",
        "colab": {
          "base_uri": "https://localhost:8080/",
          "height": 1000
        },
        "outputId": "dfd8cebf-3b0f-4d48-89fb-a832497a26f0"
      },
      "execution_count": 6,
      "outputs": [
        {
          "output_type": "stream",
          "name": "stdout",
          "text": [
            "             S           E          I           R\n",
            "0   800.000000  100.000000  50.000000   50.000000\n",
            "1   788.068048   99.517281  45.297712   55.826553\n",
            "2   776.816213   97.725797  41.201560   61.113626\n",
            "3   765.991249   96.450220  39.301047   66.017984\n",
            "4   755.536012   95.695045  38.883340   70.804076\n",
            "5   745.287575   95.162138  38.875187   75.556552\n",
            "6   735.182731   94.700080  38.978837   80.317486\n",
            "7   725.266401   94.239763  39.118992   85.100695\n",
            "8   715.516543   93.751228  39.272117   89.906099\n",
            "9   705.912849   93.223808  39.430086   94.727930\n",
            "10  696.446893   92.656444  39.589958   99.560503\n",
            "11  687.155200   92.052612  39.750633  104.414959\n",
            "12  678.031814   91.417562  39.911681  109.292707\n",
            "13  669.059180   90.756849  40.072925  114.189054\n",
            "14  660.224462   90.075607  40.234286  119.104425\n",
            "15  651.554594   89.378254  40.395724  124.044121\n",
            "16  643.040199   88.668422  40.557218  129.003843\n",
            "17  634.677079   87.949019  40.718754  133.978984\n",
            "18  626.453614   87.222320  40.880325  138.971097\n",
            "19  618.353542   86.490086  41.041922  143.980490\n",
            "20  610.404330   85.753664  41.203543  149.013299\n",
            "21  602.606079   85.014079  41.365183  154.071625\n",
            "22  594.938479   84.272106  41.526840  159.153025\n",
            "23  587.384438   83.528332  41.688512  164.254977\n",
            "24  579.964427   82.783199  41.850197  169.374810\n",
            "25  572.683284   82.037041  42.011894  174.511935\n",
            "26  565.523669   81.290107  42.173601  179.670078\n",
            "27  558.473594   80.542588  42.335317  184.844878\n",
            "28  551.552954   79.794627  42.497042  190.036554\n",
            "29  544.773070   79.046333  42.658775  195.252078\n",
            "30  538.181597   78.297787  42.820514  200.490331\n",
            "31  531.764016   77.549051  42.982260  205.750097\n",
            "32  525.501249   76.800173  43.144012  211.030225\n",
            "33  519.376353   76.051189  43.305769  216.329627\n",
            "34  513.374270   75.302126  43.467532  221.647274\n",
            "35  507.481612   74.553005  43.629298  226.982735\n",
            "36  501.686470   73.803841  43.791070  232.340341\n",
            "37  495.978251   73.054647  43.952845  237.720727\n",
            "38  490.347525   72.305433  44.114623  243.123206\n",
            "39  484.785899   71.556204  44.276405  248.547036\n",
            "40  479.285897   70.806967  44.438190  253.991432\n",
            "41  473.840865   70.057726  44.599979  259.455579\n",
            "42  468.444873   69.308483  44.761769  264.938636\n",
            "43  463.092636   68.559240  44.923563  270.439753\n",
            "44  457.779448   67.810000  45.085359  275.958075\n",
            "45  452.501112   67.060763  45.247157  281.492750\n",
            "46  447.253886   66.311530  45.408957  287.047564\n",
            "47  442.034436   65.562302  45.570759  292.627378\n",
            "48  436.839786   64.813079  45.732562  298.230895\n",
            "49  431.667285   64.063861  45.894368  303.856803\n",
            "50  426.514564   63.314649  46.056175  309.503811\n",
            "51  421.379513   62.565442  46.217983  315.170660\n",
            "52  416.260246   61.816240  46.379793  320.856130\n",
            "53  411.155084   61.067043  46.541605  326.559048\n",
            "54  406.062524   60.317851  46.703417  332.278289\n",
            "55  400.981227   59.568664  46.865231  338.012785\n",
            "56  395.909996   58.819481  47.027045  343.761518\n",
            "57  390.847763   58.070303  47.188861  349.523654\n",
            "58  385.793574   57.321128  47.350678  355.306601\n",
            "59  380.746577   56.571957  47.512496  361.113862\n"
          ]
        },
        {
          "output_type": "execute_result",
          "data": {
            "text/plain": [
              "<matplotlib.axes._subplots.AxesSubplot at 0x7fea100613d0>"
            ]
          },
          "metadata": {},
          "execution_count": 6
        },
        {
          "output_type": "display_data",
          "data": {
            "text/plain": [
              "<Figure size 432x288 with 1 Axes>"
            ],
            "image/png": "[encoded data removed]"
          },
          "metadata": {
            "needs_background": "light"
          }
        }
      ]
    },
    {
      "cell_type": "markdown",
      "source": [
        "## Export Data"
      ],
      "metadata": {
        "id": "6lIC7BLfhKxw"
      }
    },
    {
      "cell_type": "code",
      "source": [
        "# Export csv\n",
        "output.to_csv(\"sim-10-p.csv\")"
      ],
      "metadata": {
        "id": "qfIG8BNAUKNe"
      },
      "execution_count": 7,
      "outputs": []
    }
  ]
}